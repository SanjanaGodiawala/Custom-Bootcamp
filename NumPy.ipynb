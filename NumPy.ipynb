{
 "cells": [
  {
   "cell_type": "code",
   "execution_count": 1,
   "id": "624af470",
   "metadata": {},
   "outputs": [],
   "source": [
    "import numpy as np"
   ]
  },
  {
   "cell_type": "code",
   "execution_count": 2,
   "id": "0cae4875",
   "metadata": {},
   "outputs": [],
   "source": [
    "arr=np.array([1,25,33])"
   ]
  },
  {
   "cell_type": "code",
   "execution_count": 3,
   "id": "00a87767",
   "metadata": {},
   "outputs": [
    {
     "data": {
      "text/plain": [
       "array([ 1, 25, 33])"
      ]
     },
     "execution_count": 3,
     "metadata": {},
     "output_type": "execute_result"
    }
   ],
   "source": [
    "arr"
   ]
  },
  {
   "cell_type": "code",
   "execution_count": 4,
   "id": "3d58f4b9",
   "metadata": {},
   "outputs": [],
   "source": [
    "arr2=np.array([[1,2,3],[2,34,5]])"
   ]
  },
  {
   "cell_type": "code",
   "execution_count": 5,
   "id": "d830c37a",
   "metadata": {},
   "outputs": [
    {
     "data": {
      "text/plain": [
       "array([[ 1,  2,  3],\n",
       "       [ 2, 34,  5]])"
      ]
     },
     "execution_count": 5,
     "metadata": {},
     "output_type": "execute_result"
    }
   ],
   "source": [
    "arr2"
   ]
  },
  {
   "cell_type": "code",
   "execution_count": 6,
   "id": "e89bb914",
   "metadata": {},
   "outputs": [
    {
     "data": {
      "text/plain": [
       "1"
      ]
     },
     "execution_count": 6,
     "metadata": {},
     "output_type": "execute_result"
    }
   ],
   "source": [
    "arr.ndim"
   ]
  },
  {
   "cell_type": "code",
   "execution_count": 7,
   "id": "e69d0f1e",
   "metadata": {},
   "outputs": [
    {
     "data": {
      "text/plain": [
       "2"
      ]
     },
     "execution_count": 7,
     "metadata": {},
     "output_type": "execute_result"
    }
   ],
   "source": [
    "arr2.ndim"
   ]
  },
  {
   "cell_type": "code",
   "execution_count": 14,
   "id": "2272efbe",
   "metadata": {},
   "outputs": [],
   "source": [
    "arr3=np.array([[[23,45,65],[43,64,2],[4,2,5]],[[2,5,5],[4,4,32],[4+2,2-1,5+4]]])"
   ]
  },
  {
   "cell_type": "code",
   "execution_count": 15,
   "id": "e61eac4f",
   "metadata": {},
   "outputs": [
    {
     "data": {
      "text/plain": [
       "array([[[23, 45, 65],\n",
       "        [43, 64,  2],\n",
       "        [ 4,  2,  5]],\n",
       "\n",
       "       [[ 2,  5,  5],\n",
       "        [ 4,  4, 32],\n",
       "        [ 6,  1,  9]]])"
      ]
     },
     "execution_count": 15,
     "metadata": {},
     "output_type": "execute_result"
    }
   ],
   "source": [
    "arr3"
   ]
  },
  {
   "cell_type": "code",
   "execution_count": 10,
   "id": "f35f855c",
   "metadata": {},
   "outputs": [
    {
     "data": {
      "text/plain": [
       "3"
      ]
     },
     "execution_count": 10,
     "metadata": {},
     "output_type": "execute_result"
    }
   ],
   "source": [
    "arr3.ndim"
   ]
  },
  {
   "cell_type": "code",
   "execution_count": 11,
   "id": "41f4f38a",
   "metadata": {},
   "outputs": [
    {
     "data": {
      "text/plain": [
       "33"
      ]
     },
     "execution_count": 11,
     "metadata": {},
     "output_type": "execute_result"
    }
   ],
   "source": [
    "arr[2]"
   ]
  },
  {
   "cell_type": "code",
   "execution_count": 13,
   "id": "0928201f",
   "metadata": {},
   "outputs": [
    {
     "data": {
      "text/plain": [
       "array([ 1, 25])"
      ]
     },
     "execution_count": 13,
     "metadata": {},
     "output_type": "execute_result"
    }
   ],
   "source": [
    "arr[:2]"
   ]
  },
  {
   "cell_type": "code",
   "execution_count": 19,
   "id": "720762b2",
   "metadata": {},
   "outputs": [
    {
     "data": {
      "text/plain": [
       "array([ 2, 34])"
      ]
     },
     "execution_count": 19,
     "metadata": {},
     "output_type": "execute_result"
    }
   ],
   "source": [
    "arr2[1,0:2]"
   ]
  },
  {
   "cell_type": "code",
   "execution_count": 21,
   "id": "784ed135",
   "metadata": {},
   "outputs": [
    {
     "data": {
      "text/plain": [
       "array([[ 5,  5],\n",
       "       [ 4, 32]])"
      ]
     },
     "execution_count": 21,
     "metadata": {},
     "output_type": "execute_result"
    }
   ],
   "source": [
    "arr3[1,0:2,1:]"
   ]
  },
  {
   "cell_type": "code",
   "execution_count": 22,
   "id": "81e78ad3",
   "metadata": {},
   "outputs": [
    {
     "data": {
      "text/plain": [
       "2"
      ]
     },
     "execution_count": 22,
     "metadata": {},
     "output_type": "execute_result"
    }
   ],
   "source": [
    "arr3[0,1,2]"
   ]
  },
  {
   "cell_type": "code",
   "execution_count": 24,
   "id": "55ab650b",
   "metadata": {},
   "outputs": [
    {
     "data": {
      "text/plain": [
       "array([ 4, 32])"
      ]
     },
     "execution_count": 24,
     "metadata": {},
     "output_type": "execute_result"
    }
   ],
   "source": [
    "arr3[1,1,1:]"
   ]
  },
  {
   "cell_type": "code",
   "execution_count": 2,
   "id": "d54be6c3",
   "metadata": {},
   "outputs": [],
   "source": [
    "import numpy as np"
   ]
  },
  {
   "cell_type": "code",
   "execution_count": 4,
   "id": "1ccb7fb7",
   "metadata": {},
   "outputs": [],
   "source": [
    "# create a numpy arry from dataset\n",
    "temperature_data = [25.3, 26.1, 24.8, 23.5, 27.2]\n",
    "pressure_data = [101.2, 100.8, 101.5, 100.2, 101.0]\n",
    "humidity_data = [55.2, 54.8, 56.5, 53.7, 55.9]\n",
    "\n",
    "tarr=np.array(temperature_data)\n",
    "parr=np.array(pressure_data)\n",
    "harr=np.array(humidity_data)"
   ]
  },
  {
   "cell_type": "code",
   "execution_count": 7,
   "id": "fc1a8f6a",
   "metadata": {},
   "outputs": [
    {
     "data": {
      "text/plain": [
       "array([25.3, 26.1, 24.8, 23.5, 27.2])"
      ]
     },
     "execution_count": 7,
     "metadata": {},
     "output_type": "execute_result"
    }
   ],
   "source": [
    "tarr"
   ]
  },
  {
   "cell_type": "code",
   "execution_count": 6,
   "id": "a18a4209",
   "metadata": {},
   "outputs": [],
   "source": [
    "# Calculate mean of each quantity\n",
    "tempAvg=np.mean(tarr)\n",
    "pressureAvg = np.mean(parr)\n",
    "humAvg = np.mean(harr)"
   ]
  },
  {
   "cell_type": "code",
   "execution_count": 8,
   "id": "7f10cb41",
   "metadata": {},
   "outputs": [
    {
     "data": {
      "text/plain": [
       "25.380000000000003"
      ]
     },
     "execution_count": 8,
     "metadata": {},
     "output_type": "execute_result"
    }
   ],
   "source": [
    "tempAvg"
   ]
  },
  {
   "cell_type": "code",
   "execution_count": 14,
   "id": "35320f1e",
   "metadata": {},
   "outputs": [],
   "source": [
    "#calculated SD for each quantity\n",
    "tempSD=np.std(tarr)\n",
    "pressureSD = np.std(parr)\n",
    "humSD = np.std(harr)"
   ]
  },
  {
   "cell_type": "code",
   "execution_count": 15,
   "id": "4695c941",
   "metadata": {},
   "outputs": [
    {
     "data": {
      "text/plain": [
       "1.2416118556135003"
      ]
     },
     "execution_count": 15,
     "metadata": {},
     "output_type": "execute_result"
    }
   ],
   "source": [
    "tempSD"
   ]
  },
  {
   "cell_type": "code",
   "execution_count": 17,
   "id": "e6885d89",
   "metadata": {},
   "outputs": [],
   "source": [
    "#calculate max and min value of the temperature\n",
    "tempMax = np.max(tarr)\n",
    "tempMin= np.min(tarr)"
   ]
  },
  {
   "cell_type": "code",
   "execution_count": 18,
   "id": "27e8d798",
   "metadata": {},
   "outputs": [
    {
     "data": {
      "text/plain": [
       "27.2"
      ]
     },
     "execution_count": 18,
     "metadata": {},
     "output_type": "execute_result"
    }
   ],
   "source": [
    "tempMax"
   ]
  },
  {
   "cell_type": "code",
   "execution_count": 19,
   "id": "4c1d1ee6",
   "metadata": {},
   "outputs": [
    {
     "data": {
      "text/plain": [
       "23.5"
      ]
     },
     "execution_count": 19,
     "metadata": {},
     "output_type": "execute_result"
    }
   ],
   "source": [
    "tempMin"
   ]
  },
  {
   "cell_type": "code",
   "execution_count": null,
   "id": "79d9d450",
   "metadata": {},
   "outputs": [],
   "source": []
  }
 ],
 "metadata": {
  "kernelspec": {
   "display_name": "Python 3 (ipykernel)",
   "language": "python",
   "name": "python3"
  },
  "language_info": {
   "codemirror_mode": {
    "name": "ipython",
    "version": 3
   },
   "file_extension": ".py",
   "mimetype": "text/x-python",
   "name": "python",
   "nbconvert_exporter": "python",
   "pygments_lexer": "ipython3",
   "version": "3.11.4"
  }
 },
 "nbformat": 4,
 "nbformat_minor": 5
}
