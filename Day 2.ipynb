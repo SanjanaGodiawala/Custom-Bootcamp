{
 "cells": [
  {
   "cell_type": "code",
   "execution_count": 1,
   "id": "6b12763a",
   "metadata": {},
   "outputs": [
    {
     "name": "stdout",
     "output_type": "stream",
     "text": [
      "Hello world\n"
     ]
    }
   ],
   "source": [
    "def hello():\n",
    "    print(\"Hello world\")\n",
    "    \n",
    "hello()"
   ]
  },
  {
   "cell_type": "code",
   "execution_count": 2,
   "id": "6add65c7",
   "metadata": {},
   "outputs": [
    {
     "data": {
      "text/plain": [
       "256"
      ]
     },
     "execution_count": 2,
     "metadata": {},
     "output_type": "execute_result"
    }
   ],
   "source": [
    "def square(n):\n",
    "    return n*n\n",
    "square(16)"
   ]
  },
  {
   "cell_type": "code",
   "execution_count": 3,
   "id": "3dcc8346",
   "metadata": {},
   "outputs": [
    {
     "name": "stdout",
     "output_type": "stream",
     "text": [
      "even\n"
     ]
    }
   ],
   "source": [
    "def evenodd(no):\n",
    "    if no%2==0:\n",
    "        print(\"even\")\n",
    "    else:\n",
    "        print(\"odd\")\n",
    "evenodd(10)"
   ]
  },
  {
   "cell_type": "code",
   "execution_count": 4,
   "id": "9a5f64bb",
   "metadata": {},
   "outputs": [
    {
     "data": {
      "text/plain": [
       "6"
      ]
     },
     "execution_count": 4,
     "metadata": {},
     "output_type": "execute_result"
    }
   ],
   "source": [
    "def add(a,b):\n",
    "    return a+b\n",
    "add(2,4)"
   ]
  },
  {
   "cell_type": "code",
   "execution_count": 5,
   "id": "f745d23f",
   "metadata": {},
   "outputs": [
    {
     "name": "stdout",
     "output_type": "stream",
     "text": [
      "5\n",
      "-14\n",
      "10\n"
     ]
    }
   ],
   "source": [
    "def sub(a,b):\n",
    "    return a-b\n",
    "print(sub(10,5))\n",
    "print(sub(5,19))\n",
    "print(sub(b=5,a=15)) #keyword arg"
   ]
  },
  {
   "cell_type": "code",
   "execution_count": 6,
   "id": "f20f0bcc",
   "metadata": {},
   "outputs": [],
   "source": [
    "def wish(name,msg):\n",
    "    print(f\"Hello {name},{msg}\")"
   ]
  },
  {
   "cell_type": "code",
   "execution_count": 7,
   "id": "40eed6e4",
   "metadata": {},
   "outputs": [
    {
     "name": "stdout",
     "output_type": "stream",
     "text": [
      "Hello Sanjana,good morning\n"
     ]
    }
   ],
   "source": [
    "wish(\"Sanjana\",\"good morning\") #Positional arg"
   ]
  },
  {
   "cell_type": "code",
   "execution_count": 8,
   "id": "6dcc531f",
   "metadata": {},
   "outputs": [
    {
     "name": "stdout",
     "output_type": "stream",
     "text": [
      "Hello Sanjana,Good Morning\n"
     ]
    }
   ],
   "source": [
    "wish(name=\"Sanjana\",msg = \"Good Morning\") #Keyword arg"
   ]
  },
  {
   "cell_type": "code",
   "execution_count": 9,
   "id": "ff8fa439",
   "metadata": {},
   "outputs": [],
   "source": [
    "def add(a=1,b=2):\n",
    "    return a+b"
   ]
  },
  {
   "cell_type": "code",
   "execution_count": 10,
   "id": "7de5421a",
   "metadata": {},
   "outputs": [
    {
     "data": {
      "text/plain": [
       "9"
      ]
     },
     "execution_count": 10,
     "metadata": {},
     "output_type": "execute_result"
    }
   ],
   "source": [
    "add(4,5)"
   ]
  },
  {
   "cell_type": "code",
   "execution_count": 11,
   "id": "81e57bee",
   "metadata": {},
   "outputs": [
    {
     "data": {
      "text/plain": [
       "3"
      ]
     },
     "execution_count": 11,
     "metadata": {},
     "output_type": "execute_result"
    }
   ],
   "source": [
    "add()"
   ]
  },
  {
   "cell_type": "code",
   "execution_count": 12,
   "id": "52398747",
   "metadata": {},
   "outputs": [],
   "source": [
    "def add(*no):       #variable arg\n",
    "    s=0\n",
    "    for i in no:\n",
    "        print(i)\n",
    "        s+=i\n",
    "    return s"
   ]
  },
  {
   "cell_type": "code",
   "execution_count": 13,
   "id": "59427d27",
   "metadata": {},
   "outputs": [
    {
     "name": "stdout",
     "output_type": "stream",
     "text": [
      "20\n",
      "30\n",
      "40\n",
      "50\n",
      "9\n"
     ]
    },
    {
     "data": {
      "text/plain": [
       "149"
      ]
     },
     "execution_count": 13,
     "metadata": {},
     "output_type": "execute_result"
    }
   ],
   "source": [
    "add(20,30,40,50,9)"
   ]
  },
  {
   "cell_type": "code",
   "execution_count": 14,
   "id": "635cc9d0",
   "metadata": {},
   "outputs": [],
   "source": [
    "def info(**kwargs):\n",
    "    for i,j in kwargs.items():\n",
    "        print(i,\":\",j)"
   ]
  },
  {
   "cell_type": "code",
   "execution_count": 15,
   "id": "be3f820b",
   "metadata": {},
   "outputs": [
    {
     "name": "stdout",
     "output_type": "stream",
     "text": [
      "name : John\n",
      "age : 30\n",
      "city : Mumbai\n"
     ]
    }
   ],
   "source": [
    "info(name=\"John\",age=30, city=\"Mumbai\")"
   ]
  },
  {
   "cell_type": "code",
   "execution_count": 16,
   "id": "02b76b2d",
   "metadata": {},
   "outputs": [
    {
     "name": "stdout",
     "output_type": "stream",
     "text": [
      "name : John\n",
      "age : 30\n",
      "city : Mumbai\n",
      "dept : IT\n"
     ]
    }
   ],
   "source": [
    "info(name=\"John\",age=30, city=\"Mumbai\",dept=\"IT\")"
   ]
  },
  {
   "cell_type": "code",
   "execution_count": 17,
   "id": "2c546f50",
   "metadata": {},
   "outputs": [
    {
     "name": "stdout",
     "output_type": "stream",
     "text": [
      "Paul\n",
      "(30, 'IT', 77700, 'Delhi')\n"
     ]
    }
   ],
   "source": [
    "def person(name,*arg):\n",
    "    print(name)\n",
    "    print(arg)\n",
    "    \n",
    "person(\"Paul\",30,\"IT\",77700,\"Delhi\")"
   ]
  },
  {
   "cell_type": "code",
   "execution_count": 18,
   "id": "00ceeec1",
   "metadata": {},
   "outputs": [
    {
     "name": "stdout",
     "output_type": "stream",
     "text": [
      "Paul\n",
      "age : 30\n",
      "dept : IT\n",
      "ph : 77700\n",
      "city : Delhi\n"
     ]
    }
   ],
   "source": [
    "def person(name,**arg):\n",
    "    print(name)\n",
    "    for i,j in arg.items():\n",
    "        print(i,\":\",j)\n",
    "    \n",
    "person(\"Paul\",age=30, dept=\"IT\", ph=77700, city=\"Delhi\")"
   ]
  },
  {
   "cell_type": "code",
   "execution_count": 19,
   "id": "5b3ab0ca",
   "metadata": {},
   "outputs": [],
   "source": [
    "drilling_equipment = []\n",
    "drilling_site = []\n"
   ]
  },
  {
   "cell_type": "code",
   "execution_count": 20,
   "id": "3f9f4d31",
   "metadata": {},
   "outputs": [],
   "source": [
    "def add_equipment(Equipment_type,*arg, **kwarg):\n",
    "    dictionary={\"equipment\":Equipment_type, \"details\":arg,\"attributes\":kwarg}\n",
    "    drilling_equipment.append(dictionary)"
   ]
  },
  {
   "cell_type": "code",
   "execution_count": 21,
   "id": "d1780f78",
   "metadata": {},
   "outputs": [
    {
     "name": "stdout",
     "output_type": "stream",
     "text": [
      "[{'equipment': 'Drill', 'details': ('m1', 10), 'attributes': {'vendor': 'v1'}}]\n"
     ]
    }
   ],
   "source": [
    "add_equipment(\"Drill\",\"m1\",10,vendor=\"v1\")\n",
    "print(drilling_equipment)"
   ]
  },
  {
   "cell_type": "code",
   "execution_count": 22,
   "id": "be5e8b78",
   "metadata": {},
   "outputs": [
    {
     "name": "stdout",
     "output_type": "stream",
     "text": [
      "[{'equipment': 'Drill', 'details': ('m1', 10), 'attributes': {'vendor': 'v1'}}, {'equipment': 'Drill e2', 'details': ('m2', 70), 'attributes': {'vendor': 'v2', 'powerSuply': 100}}]\n"
     ]
    }
   ],
   "source": [
    "add_equipment(\"Drill e2\",\"m2\",70,vendor=\"v2\", powerSuply=100)\n",
    "print(drilling_equipment)"
   ]
  },
  {
   "cell_type": "code",
   "execution_count": 23,
   "id": "60a0e452",
   "metadata": {},
   "outputs": [],
   "source": [
    "def add_site(site_name,*arg, **kwarg):\n",
    "    dictionary={\"equipment\":site_name, \"details\":arg,\"attributes\":kwarg}\n",
    "    drilling_site.append(dictionary)"
   ]
  },
  {
   "cell_type": "code",
   "execution_count": 25,
   "id": "01244118",
   "metadata": {},
   "outputs": [
    {
     "name": "stdout",
     "output_type": "stream",
     "text": [
      "[{'equipment': 'Site 1', 'details': ('l1', 70), 'attributes': {'status': 'activwe', 'operator': 'O1'}}]\n"
     ]
    }
   ],
   "source": [
    "add_site(\"Site 1\",\"l1\",70,status=\"activwe\", operator=\"O1\")\n",
    "print(drilling_site)"
   ]
  },
  {
   "cell_type": "code",
   "execution_count": 26,
   "id": "246de89b",
   "metadata": {},
   "outputs": [
    {
     "name": "stdout",
     "output_type": "stream",
     "text": [
      "[{'equipment': 'Site 1', 'details': ('l1', 70), 'attributes': {'status': 'activwe', 'operator': 'O1'}}, {'equipment': 'Site 2', 'details': ('l1', 70, 'flat'), 'attributes': {'status': 'inactive', 'operator': 'O8'}}]\n"
     ]
    }
   ],
   "source": [
    "add_site(\"Site 2\",\"l1\",70,\"flat\", status=\"inactive\", operator=\"O8\")\n",
    "print(drilling_site)"
   ]
  },
  {
   "cell_type": "code",
   "execution_count": null,
   "id": "3e7946a2",
   "metadata": {},
   "outputs": [],
   "source": []
  }
 ],
 "metadata": {
  "kernelspec": {
   "display_name": "Python 3 (ipykernel)",
   "language": "python",
   "name": "python3"
  },
  "language_info": {
   "codemirror_mode": {
    "name": "ipython",
    "version": 3
   },
   "file_extension": ".py",
   "mimetype": "text/x-python",
   "name": "python",
   "nbconvert_exporter": "python",
   "pygments_lexer": "ipython3",
   "version": "3.11.4"
  }
 },
 "nbformat": 4,
 "nbformat_minor": 5
}
