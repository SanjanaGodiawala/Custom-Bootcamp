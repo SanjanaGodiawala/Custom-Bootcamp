{
 "cells": [
  {
   "cell_type": "code",
   "execution_count": 1,
   "id": "14a71bc9",
   "metadata": {},
   "outputs": [],
   "source": [
    "import findspark"
   ]
  },
  {
   "cell_type": "code",
   "execution_count": 2,
   "id": "ad816f02",
   "metadata": {},
   "outputs": [],
   "source": [
    "findspark.init()"
   ]
  },
  {
   "cell_type": "code",
   "execution_count": 3,
   "id": "a420e211",
   "metadata": {},
   "outputs": [],
   "source": [
    "from pyspark.sql import SparkSession"
   ]
  },
  {
   "cell_type": "code",
   "execution_count": 4,
   "id": "3ff2f407",
   "metadata": {},
   "outputs": [
    {
     "name": "stderr",
     "output_type": "stream",
     "text": [
      "Setting default log level to \"WARN\".\n",
      "To adjust logging level use sc.setLogLevel(newLevel). For SparkR, use setLogLevel(newLevel).\n",
      "23/09/21 08:37:36 WARN NativeCodeLoader: Unable to load native-hadoop library for your platform... using builtin-java classes where applicable\n",
      "23/09/21 08:37:37 WARN Utils: Service 'SparkUI' could not bind on port 4040. Attempting port 4041.\n"
     ]
    }
   ],
   "source": [
    "#create a spark session\n",
    "spark=SparkSession.builder.appName(\"RDDexample\").getOrCreate()"
   ]
  },
  {
   "cell_type": "code",
   "execution_count": 24,
   "id": "83458251",
   "metadata": {},
   "outputs": [],
   "source": [
    "df=spark.createDataFrame([[1,2,3]])"
   ]
  },
  {
   "cell_type": "code",
   "execution_count": 25,
   "id": "e460065f",
   "metadata": {},
   "outputs": [
    {
     "name": "stdout",
     "output_type": "stream",
     "text": [
      "+---+---+---+\n",
      "| _1| _2| _3|\n",
      "+---+---+---+\n",
      "|  1|  2|  3|\n",
      "+---+---+---+\n",
      "\n"
     ]
    }
   ],
   "source": [
    "df.show()"
   ]
  },
  {
   "cell_type": "code",
   "execution_count": 26,
   "id": "149bff19",
   "metadata": {},
   "outputs": [
    {
     "data": {
      "text/plain": [
       "pyspark.sql.dataframe.DataFrame"
      ]
     },
     "execution_count": 26,
     "metadata": {},
     "output_type": "execute_result"
    }
   ],
   "source": [
    "type(df)"
   ]
  },
  {
   "cell_type": "code",
   "execution_count": 27,
   "id": "5deca81a",
   "metadata": {},
   "outputs": [
    {
     "data": {
      "text/plain": [
       "DataFrame[a: bigint, b: double, c: string, d: date, e: timestamp]"
      ]
     },
     "execution_count": 27,
     "metadata": {},
     "output_type": "execute_result"
    }
   ],
   "source": [
    "from datetime import datetime, date\n",
    "import pandas as pd\n",
    "from pyspark.sql import Row\n",
    "\n",
    "df = spark.createDataFrame([\n",
    "    Row(a=1, b=2., c='string1', d=date(2000, 1, 1), e=datetime(2000, 1, 1, 12, 0)),\n",
    "    Row(a=2, b=3., c='string2', d=date(2000, 2, 1), e=datetime(2000, 1, 2, 12, 0)),\n",
    "    Row(a=4, b=5., c='string3', d=date(2000, 3, 1), e=datetime(2000, 1, 3, 12, 0))\n",
    "])\n",
    "df"
   ]
  },
  {
   "cell_type": "code",
   "execution_count": 28,
   "id": "ff8cda1e",
   "metadata": {},
   "outputs": [
    {
     "name": "stdout",
     "output_type": "stream",
     "text": [
      "+---+---+-------+----------+-------------------+\n",
      "|  a|  b|      c|         d|                  e|\n",
      "+---+---+-------+----------+-------------------+\n",
      "|  1|2.0|string1|2000-01-01|2000-01-01 12:00:00|\n",
      "|  2|3.0|string2|2000-02-01|2000-01-02 12:00:00|\n",
      "|  4|5.0|string3|2000-03-01|2000-01-03 12:00:00|\n",
      "+---+---+-------+----------+-------------------+\n",
      "\n"
     ]
    }
   ],
   "source": [
    "df.show()"
   ]
  },
  {
   "cell_type": "code",
   "execution_count": 30,
   "id": "8a9a7c59",
   "metadata": {},
   "outputs": [],
   "source": [
    "data =[\n",
    "    (1, 2., 'string1', date(2000, 1, 1), datetime(2000, 1, 1, 12, 0)),\n",
    "    (2, 3., 'string2', date(2000, 2, 1), datetime(2000, 1, 2, 12, 0)),\n",
    "    (3, 4., 'string3', date(2000, 3, 1), datetime(2000, 1, 3, 12, 0))\n",
    "]\n",
    "schema='a long, b double, c string, d date, e timestamp'"
   ]
  },
  {
   "cell_type": "code",
   "execution_count": 31,
   "id": "65453aae",
   "metadata": {},
   "outputs": [],
   "source": [
    " df = spark.createDataFrame(data,schema)"
   ]
  },
  {
   "cell_type": "code",
   "execution_count": 32,
   "id": "e290dcbe",
   "metadata": {},
   "outputs": [
    {
     "name": "stdout",
     "output_type": "stream",
     "text": [
      "+---+---+-------+----------+-------------------+\n",
      "|  a|  b|      c|         d|                  e|\n",
      "+---+---+-------+----------+-------------------+\n",
      "|  1|2.0|string1|2000-01-01|2000-01-01 12:00:00|\n",
      "|  2|3.0|string2|2000-02-01|2000-01-02 12:00:00|\n",
      "|  3|4.0|string3|2000-03-01|2000-01-03 12:00:00|\n",
      "+---+---+-------+----------+-------------------+\n",
      "\n"
     ]
    }
   ],
   "source": [
    "df.show()"
   ]
  },
  {
   "cell_type": "code",
   "execution_count": 33,
   "id": "648479f8",
   "metadata": {},
   "outputs": [],
   "source": [
    "data2 = [(1,'a','z',77700,'India'),(2,'b','y',98997,'India')]"
   ]
  },
  {
   "cell_type": "code",
   "execution_count": 34,
   "id": "dc54739a",
   "metadata": {},
   "outputs": [],
   "source": [
    "#schema as string\n",
    "schema2 = \"id int, fname string, lname string, ph int, country string\"\n"
   ]
  },
  {
   "cell_type": "code",
   "execution_count": 40,
   "id": "e766b0d7",
   "metadata": {},
   "outputs": [],
   "source": [
    "#schema as int\n",
    "schema3 = ['id','fname','lname','ph','country']"
   ]
  },
  {
   "cell_type": "code",
   "execution_count": 35,
   "id": "73f622ff",
   "metadata": {},
   "outputs": [],
   "source": [
    "df3=spark.createDataFrame(data2,schema2)"
   ]
  },
  {
   "cell_type": "code",
   "execution_count": 36,
   "id": "66647199",
   "metadata": {},
   "outputs": [
    {
     "data": {
      "text/plain": [
       "DataFrame[id: int, fname: string, lname: string, ph: int, country: string]"
      ]
     },
     "execution_count": 36,
     "metadata": {},
     "output_type": "execute_result"
    }
   ],
   "source": [
    "df3"
   ]
  },
  {
   "cell_type": "code",
   "execution_count": 37,
   "id": "2cdcdbd9",
   "metadata": {},
   "outputs": [
    {
     "name": "stdout",
     "output_type": "stream",
     "text": [
      "+---+-----+-----+-----+-------+\n",
      "| id|fname|lname|   ph|country|\n",
      "+---+-----+-----+-----+-------+\n",
      "|  1|    a|    z|77700|  India|\n",
      "|  2|    b|    y|98997|  India|\n",
      "+---+-----+-----+-----+-------+\n",
      "\n"
     ]
    }
   ],
   "source": [
    "df3.show()"
   ]
  },
  {
   "cell_type": "code",
   "execution_count": 38,
   "id": "96d61513",
   "metadata": {},
   "outputs": [
    {
     "data": {
      "text/plain": [
       "[('id', 'int'),\n",
       " ('fname', 'string'),\n",
       " ('lname', 'string'),\n",
       " ('ph', 'int'),\n",
       " ('country', 'string')]"
      ]
     },
     "execution_count": 38,
     "metadata": {},
     "output_type": "execute_result"
    }
   ],
   "source": [
    "df3.dtypes"
   ]
  },
  {
   "cell_type": "code",
   "execution_count": 41,
   "id": "fa121dfd",
   "metadata": {},
   "outputs": [
    {
     "data": {
      "text/plain": [
       "DataFrame[id: bigint, fname: string, lname: string, ph: bigint, country: string]"
      ]
     },
     "execution_count": 41,
     "metadata": {},
     "output_type": "execute_result"
    }
   ],
   "source": [
    "df3=spark.createDataFrame(data2,schema3)\n",
    "df3"
   ]
  },
  {
   "cell_type": "code",
   "execution_count": 43,
   "id": "2470733a",
   "metadata": {},
   "outputs": [
    {
     "name": "stdout",
     "output_type": "stream",
     "text": [
      "root\n",
      " |-- id: long (nullable = true)\n",
      " |-- fname: string (nullable = true)\n",
      " |-- lname: string (nullable = true)\n",
      " |-- ph: long (nullable = true)\n",
      " |-- country: string (nullable = true)\n",
      "\n"
     ]
    }
   ],
   "source": [
    "df3.printSchema()"
   ]
  },
  {
   "cell_type": "code",
   "execution_count": 49,
   "id": "128497a0",
   "metadata": {},
   "outputs": [],
   "source": [
    "users=[{\"id\":1,\n",
    "        \"fname\":'a',\n",
    "        \"amount\":1000\n",
    "       },\n",
    "       {\"id\":2,\n",
    "        \"fname\":'b',\n",
    "        \"amount\":1500\n",
    "       }\n",
    "    ]"
   ]
  },
  {
   "cell_type": "code",
   "execution_count": 50,
   "id": "d0fed0d9",
   "metadata": {},
   "outputs": [],
   "source": [
    "df4=spark.createDataFrame(users)"
   ]
  },
  {
   "cell_type": "code",
   "execution_count": 51,
   "id": "61ea8e28",
   "metadata": {},
   "outputs": [
    {
     "name": "stdout",
     "output_type": "stream",
     "text": [
      "+------+-----+---+\n",
      "|amount|fname| id|\n",
      "+------+-----+---+\n",
      "|  1000|    a|  1|\n",
      "|  1500|    b|  2|\n",
      "+------+-----+---+\n",
      "\n"
     ]
    }
   ],
   "source": [
    "df4.show()"
   ]
  },
  {
   "cell_type": "code",
   "execution_count": 98,
   "id": "a59e2dcd",
   "metadata": {},
   "outputs": [],
   "source": [
    "df5=spark.read.csv(\"Dataset/employee.csv\",header=True)\n",
    "#df5=spark.read.option(\"header\",True).csv(\"Dataset/employee.csv\",header=True)"
   ]
  },
  {
   "cell_type": "code",
   "execution_count": 99,
   "id": "a96937dd",
   "metadata": {},
   "outputs": [
    {
     "name": "stdout",
     "output_type": "stream",
     "text": [
      "+----------+------+----------+---------------+------+-------+-----------------+--------------------+\n",
      "|First Name|Gender|Start Date|Last Login Time|Salary|Bonus %|Senior Management|                Team|\n",
      "+----------+------+----------+---------------+------+-------+-----------------+--------------------+\n",
      "|   Douglas|  Male|  8/6/1993|       12:42 PM| 97308|  6.945|             true|           Marketing|\n",
      "|    Thomas|  Male| 3/31/1996|        6:53 AM| 61933|   4.17|             true|                null|\n",
      "|     Maria|Female| 4/23/1993|       11:17 AM|130590| 11.858|            false|             Finance|\n",
      "|     Jerry|  Male|  3/4/2005|        1:00 PM|138705|   9.34|             true|             Finance|\n",
      "|     Larry|  Male| 1/24/1998|        4:47 PM|101004|  1.389|             true|     Client Services|\n",
      "|    Dennis|  Male| 4/18/1987|        1:35 AM|115163| 10.125|            false|               Legal|\n",
      "|      Ruby|Female| 8/17/1987|        4:20 PM| 65476| 10.012|             true|             Product|\n",
      "|      null|Female| 7/20/2015|       10:43 AM| 45906| 11.598|             null|             Finance|\n",
      "|    Angela|Female|11/22/2005|        6:29 AM| 95570| 18.523|             true|         Engineering|\n",
      "|   Frances|Female|  8/8/2002|        6:51 AM|139852|  7.524|             true|Business Development|\n",
      "|    Louise|Female| 8/12/1980|        9:01 AM| 63241| 15.132|             true|                null|\n",
      "|     Julie|Female|10/26/1997|        3:19 PM|102508| 12.637|             true|               Legal|\n",
      "|   Brandon|  Male| 12/1/1980|        1:08 AM|112807| 17.492|             true|     Human Resources|\n",
      "|      Gary|  Male| 1/27/2008|       11:40 PM|109831|  5.831|            false|               Sales|\n",
      "|  Kimberly|Female| 1/14/1999|        7:13 AM| 41426| 14.543|             true|             Finance|\n",
      "|   Lillian|Female|  6/5/2016|        6:09 AM| 59414|  1.256|            false|             Product|\n",
      "|    Jeremy|  Male| 9/21/2010|        5:56 AM| 90370|  7.369|            false|     Human Resources|\n",
      "|     Shawn|  Male| 12/7/1986|        7:45 PM|111737|  6.414|            false|             Product|\n",
      "|     Diana|Female|10/23/1981|       10:27 AM|132940| 19.082|            false|     Client Services|\n",
      "|     Donna|Female| 7/22/2010|        3:48 AM| 81014|  1.894|            false|             Product|\n",
      "+----------+------+----------+---------------+------+-------+-----------------+--------------------+\n",
      "only showing top 20 rows\n",
      "\n"
     ]
    }
   ],
   "source": [
    "df5.show()"
   ]
  },
  {
   "cell_type": "code",
   "execution_count": 100,
   "id": "8647b755",
   "metadata": {},
   "outputs": [
    {
     "name": "stdout",
     "output_type": "stream",
     "text": [
      "root\n",
      " |-- First Name: string (nullable = true)\n",
      " |-- Gender: string (nullable = true)\n",
      " |-- Start Date: string (nullable = true)\n",
      " |-- Last Login Time: string (nullable = true)\n",
      " |-- Salary: string (nullable = true)\n",
      " |-- Bonus %: string (nullable = true)\n",
      " |-- Senior Management: string (nullable = true)\n",
      " |-- Team: string (nullable = true)\n",
      "\n"
     ]
    }
   ],
   "source": [
    "df5.printSchema()"
   ]
  },
  {
   "cell_type": "code",
   "execution_count": 101,
   "id": "2700559d",
   "metadata": {},
   "outputs": [],
   "source": [
    "df5=spark.read.option(\"header\",True).option(\"inferschema\",True).csv(\"Dataset/employee.csv\",header=True)"
   ]
  },
  {
   "cell_type": "code",
   "execution_count": 102,
   "id": "9d4cd005",
   "metadata": {},
   "outputs": [
    {
     "name": "stdout",
     "output_type": "stream",
     "text": [
      "+---+---+-------+----------+-------------------+\n",
      "|  a|  b|      c|         d|                  e|\n",
      "+---+---+-------+----------+-------------------+\n",
      "|  1|2.0|string1|2000-01-01|2000-01-01 12:00:00|\n",
      "|  2|3.0|string2|2000-02-01|2000-01-02 12:00:00|\n",
      "|  3|4.0|string3|2000-03-01|2000-01-03 12:00:00|\n",
      "+---+---+-------+----------+-------------------+\n",
      "\n"
     ]
    }
   ],
   "source": [
    "df.show()"
   ]
  },
  {
   "cell_type": "code",
   "execution_count": 103,
   "id": "1611a9c3",
   "metadata": {},
   "outputs": [
    {
     "name": "stdout",
     "output_type": "stream",
     "text": [
      "root\n",
      " |-- First Name: string (nullable = true)\n",
      " |-- Gender: string (nullable = true)\n",
      " |-- Start Date: string (nullable = true)\n",
      " |-- Last Login Time: string (nullable = true)\n",
      " |-- Salary: integer (nullable = true)\n",
      " |-- Bonus %: double (nullable = true)\n",
      " |-- Senior Management: boolean (nullable = true)\n",
      " |-- Team: string (nullable = true)\n",
      "\n"
     ]
    }
   ],
   "source": [
    "df5.printSchema()"
   ]
  },
  {
   "cell_type": "code",
   "execution_count": 104,
   "id": "40a93bb3",
   "metadata": {},
   "outputs": [
    {
     "name": "stdout",
     "output_type": "stream",
     "text": [
      "+----------+------+\n",
      "|First Name|Gender|\n",
      "+----------+------+\n",
      "|   Douglas|  Male|\n",
      "|    Thomas|  Male|\n",
      "|     Maria|Female|\n",
      "|     Jerry|  Male|\n",
      "|     Larry|  Male|\n",
      "|    Dennis|  Male|\n",
      "|      Ruby|Female|\n",
      "|      null|Female|\n",
      "|    Angela|Female|\n",
      "|   Frances|Female|\n",
      "|    Louise|Female|\n",
      "|     Julie|Female|\n",
      "|   Brandon|  Male|\n",
      "|      Gary|  Male|\n",
      "|  Kimberly|Female|\n",
      "|   Lillian|Female|\n",
      "|    Jeremy|  Male|\n",
      "|     Shawn|  Male|\n",
      "|     Diana|Female|\n",
      "|     Donna|Female|\n",
      "+----------+------+\n",
      "only showing top 20 rows\n",
      "\n"
     ]
    }
   ],
   "source": [
    "df5.select(\"First Name\",\"Gender\").show()"
   ]
  },
  {
   "cell_type": "code",
   "execution_count": 105,
   "id": "510e3a60",
   "metadata": {},
   "outputs": [
    {
     "ename": "AttributeError",
     "evalue": "'str' object has no attribute 'alias'",
     "output_type": "error",
     "traceback": [
      "\u001b[0;31m---------------------------------------------------------------------------\u001b[0m",
      "\u001b[0;31mAttributeError\u001b[0m                            Traceback (most recent call last)",
      "Cell \u001b[0;32mIn[105], line 1\u001b[0m\n\u001b[0;32m----> 1\u001b[0m df\u001b[38;5;241m.\u001b[39mselect(\u001b[38;5;124m\"\u001b[39m\u001b[38;5;124mFirst Name\u001b[39m\u001b[38;5;124m\"\u001b[39m\u001b[38;5;241m.\u001b[39malias(\u001b[38;5;124m\"\u001b[39m\u001b[38;5;124mfName\u001b[39m\u001b[38;5;124m\"\u001b[39m))\n",
      "\u001b[0;31mAttributeError\u001b[0m: 'str' object has no attribute 'alias'"
     ]
    }
   ],
   "source": [
    "df.select(\"First Name\".alias(\"fName\"))"
   ]
  },
  {
   "cell_type": "code",
   "execution_count": 106,
   "id": "3edd5dda",
   "metadata": {},
   "outputs": [],
   "source": [
    "from pyspark.sql.functions import col"
   ]
  },
  {
   "cell_type": "code",
   "execution_count": 107,
   "id": "11ced0ba",
   "metadata": {},
   "outputs": [
    {
     "name": "stdout",
     "output_type": "stream",
     "text": [
      "+--------+\n",
      "|forename|\n",
      "+--------+\n",
      "| Douglas|\n",
      "|  Thomas|\n",
      "|   Maria|\n",
      "|   Jerry|\n",
      "|   Larry|\n",
      "|  Dennis|\n",
      "|    Ruby|\n",
      "|    null|\n",
      "|  Angela|\n",
      "| Frances|\n",
      "|  Louise|\n",
      "|   Julie|\n",
      "| Brandon|\n",
      "|    Gary|\n",
      "|Kimberly|\n",
      "| Lillian|\n",
      "|  Jeremy|\n",
      "|   Shawn|\n",
      "|   Diana|\n",
      "|   Donna|\n",
      "+--------+\n",
      "only showing top 20 rows\n",
      "\n"
     ]
    }
   ],
   "source": [
    "df5.select(col(\"First Name\").alias(\"forename\")).show()"
   ]
  },
  {
   "cell_type": "code",
   "execution_count": 108,
   "id": "d0650130",
   "metadata": {},
   "outputs": [
    {
     "name": "stdout",
     "output_type": "stream",
     "text": [
      "+----------+------+--------------------+\n",
      "|First Name|Gender|                Team|\n",
      "+----------+------+--------------------+\n",
      "|   Douglas|  Male|           Marketing|\n",
      "|    Thomas|  Male|                null|\n",
      "|     Maria|Female|             Finance|\n",
      "|     Jerry|  Male|             Finance|\n",
      "|     Larry|  Male|     Client Services|\n",
      "|    Dennis|  Male|               Legal|\n",
      "|      Ruby|Female|             Product|\n",
      "|      null|Female|             Finance|\n",
      "|    Angela|Female|         Engineering|\n",
      "|   Frances|Female|Business Development|\n",
      "|    Louise|Female|                null|\n",
      "|     Julie|Female|               Legal|\n",
      "|   Brandon|  Male|     Human Resources|\n",
      "|      Gary|  Male|               Sales|\n",
      "|  Kimberly|Female|             Finance|\n",
      "|   Lillian|Female|             Product|\n",
      "|    Jeremy|  Male|     Human Resources|\n",
      "|     Shawn|  Male|             Product|\n",
      "|     Diana|Female|     Client Services|\n",
      "|     Donna|Female|             Product|\n",
      "+----------+------+--------------------+\n",
      "only showing top 20 rows\n",
      "\n"
     ]
    }
   ],
   "source": [
    "df5.select(\"First Name\", col(\"Gender\"),df5[\"Team\"]).show()"
   ]
  },
  {
   "cell_type": "code",
   "execution_count": 109,
   "id": "0dca4567",
   "metadata": {},
   "outputs": [
    {
     "name": "stdout",
     "output_type": "stream",
     "text": [
      "+--------+------+----------+---------------+------+-------+-----------------+--------------------+\n",
      "|   fName|Gender|Start Date|Last Login Time|Salary|Bonus %|Senior Management|                Team|\n",
      "+--------+------+----------+---------------+------+-------+-----------------+--------------------+\n",
      "| Douglas|  Male|  8/6/1993|       12:42 PM| 97308|  6.945|             true|           Marketing|\n",
      "|  Thomas|  Male| 3/31/1996|        6:53 AM| 61933|   4.17|             true|                null|\n",
      "|   Maria|Female| 4/23/1993|       11:17 AM|130590| 11.858|            false|             Finance|\n",
      "|   Jerry|  Male|  3/4/2005|        1:00 PM|138705|   9.34|             true|             Finance|\n",
      "|   Larry|  Male| 1/24/1998|        4:47 PM|101004|  1.389|             true|     Client Services|\n",
      "|  Dennis|  Male| 4/18/1987|        1:35 AM|115163| 10.125|            false|               Legal|\n",
      "|    Ruby|Female| 8/17/1987|        4:20 PM| 65476| 10.012|             true|             Product|\n",
      "|    null|Female| 7/20/2015|       10:43 AM| 45906| 11.598|             null|             Finance|\n",
      "|  Angela|Female|11/22/2005|        6:29 AM| 95570| 18.523|             true|         Engineering|\n",
      "| Frances|Female|  8/8/2002|        6:51 AM|139852|  7.524|             true|Business Development|\n",
      "|  Louise|Female| 8/12/1980|        9:01 AM| 63241| 15.132|             true|                null|\n",
      "|   Julie|Female|10/26/1997|        3:19 PM|102508| 12.637|             true|               Legal|\n",
      "| Brandon|  Male| 12/1/1980|        1:08 AM|112807| 17.492|             true|     Human Resources|\n",
      "|    Gary|  Male| 1/27/2008|       11:40 PM|109831|  5.831|            false|               Sales|\n",
      "|Kimberly|Female| 1/14/1999|        7:13 AM| 41426| 14.543|             true|             Finance|\n",
      "| Lillian|Female|  6/5/2016|        6:09 AM| 59414|  1.256|            false|             Product|\n",
      "|  Jeremy|  Male| 9/21/2010|        5:56 AM| 90370|  7.369|            false|     Human Resources|\n",
      "|   Shawn|  Male| 12/7/1986|        7:45 PM|111737|  6.414|            false|             Product|\n",
      "|   Diana|Female|10/23/1981|       10:27 AM|132940| 19.082|            false|     Client Services|\n",
      "|   Donna|Female| 7/22/2010|        3:48 AM| 81014|  1.894|            false|             Product|\n",
      "+--------+------+----------+---------------+------+-------+-----------------+--------------------+\n",
      "only showing top 20 rows\n",
      "\n"
     ]
    }
   ],
   "source": [
    "df5.withColumnRenamed('First Name', 'fName').show()"
   ]
  },
  {
   "cell_type": "code",
   "execution_count": 110,
   "id": "df365eb9",
   "metadata": {},
   "outputs": [
    {
     "name": "stdout",
     "output_type": "stream",
     "text": [
      "+-----------------------------------+\n",
      "|concat(Start Date, Last Login Time)|\n",
      "+-----------------------------------+\n",
      "|                   8/6/199312:42 PM|\n",
      "|                   3/31/19966:53 AM|\n",
      "|                  4/23/199311:17 AM|\n",
      "|                    3/4/20051:00 PM|\n",
      "|                   1/24/19984:47 PM|\n",
      "|                   4/18/19871:35 AM|\n",
      "|                   8/17/19874:20 PM|\n",
      "|                  7/20/201510:43 AM|\n",
      "|                  11/22/20056:29 AM|\n",
      "|                    8/8/20026:51 AM|\n",
      "|                   8/12/19809:01 AM|\n",
      "|                  10/26/19973:19 PM|\n",
      "|                   12/1/19801:08 AM|\n",
      "|                  1/27/200811:40 PM|\n",
      "|                   1/14/19997:13 AM|\n",
      "|                    6/5/20166:09 AM|\n",
      "|                   9/21/20105:56 AM|\n",
      "|                   12/7/19867:45 PM|\n",
      "|                 10/23/198110:27 AM|\n",
      "|                   7/22/20103:48 AM|\n",
      "+-----------------------------------+\n",
      "only showing top 20 rows\n",
      "\n"
     ]
    }
   ],
   "source": [
    "from pyspark.sql.functions import *\n",
    "\n",
    "df5.select(concat(\"Start Date\",\"Last Login Time\")).show()"
   ]
  },
  {
   "cell_type": "code",
   "execution_count": 111,
   "id": "75825b43",
   "metadata": {},
   "outputs": [
    {
     "name": "stdout",
     "output_type": "stream",
     "text": [
      "+----------------------------------------+\n",
      "|concat(Start Date,  & , Last Login Time)|\n",
      "+----------------------------------------+\n",
      "|                     8/6/1993 & 12:42 PM|\n",
      "|                     3/31/1996 & 6:53 AM|\n",
      "|                    4/23/1993 & 11:17 AM|\n",
      "|                      3/4/2005 & 1:00 PM|\n",
      "|                     1/24/1998 & 4:47 PM|\n",
      "|                     4/18/1987 & 1:35 AM|\n",
      "|                     8/17/1987 & 4:20 PM|\n",
      "|                    7/20/2015 & 10:43 AM|\n",
      "|                    11/22/2005 & 6:29 AM|\n",
      "|                      8/8/2002 & 6:51 AM|\n",
      "|                     8/12/1980 & 9:01 AM|\n",
      "|                    10/26/1997 & 3:19 PM|\n",
      "|                     12/1/1980 & 1:08 AM|\n",
      "|                    1/27/2008 & 11:40 PM|\n",
      "|                     1/14/1999 & 7:13 AM|\n",
      "|                      6/5/2016 & 6:09 AM|\n",
      "|                     9/21/2010 & 5:56 AM|\n",
      "|                     12/7/1986 & 7:45 PM|\n",
      "|                    10/23/1981 & 10:2...|\n",
      "|                     7/22/2010 & 3:48 AM|\n",
      "+----------------------------------------+\n",
      "only showing top 20 rows\n",
      "\n"
     ]
    }
   ],
   "source": [
    "df5.select(concat(\"Start Date\",lit(\" & \"),\"Last Login Time\")).show()"
   ]
  },
  {
   "cell_type": "code",
   "execution_count": 112,
   "id": "78daa094",
   "metadata": {},
   "outputs": [
    {
     "name": "stdout",
     "output_type": "stream",
     "text": [
      "+----------+------+----------+---------------+------+-------+-----------------+--------------------+--------------------+\n",
      "|First Name|Gender|Start Date|Last Login Time|Salary|Bonus %|Senior Management|                Team|         Date & Time|\n",
      "+----------+------+----------+---------------+------+-------+-----------------+--------------------+--------------------+\n",
      "|   Douglas|  Male|  8/6/1993|       12:42 PM| 97308|  6.945|             true|           Marketing| 8/6/1993 & 12:42 PM|\n",
      "|    Thomas|  Male| 3/31/1996|        6:53 AM| 61933|   4.17|             true|                null| 3/31/1996 & 6:53 AM|\n",
      "|     Maria|Female| 4/23/1993|       11:17 AM|130590| 11.858|            false|             Finance|4/23/1993 & 11:17 AM|\n",
      "|     Jerry|  Male|  3/4/2005|        1:00 PM|138705|   9.34|             true|             Finance|  3/4/2005 & 1:00 PM|\n",
      "|     Larry|  Male| 1/24/1998|        4:47 PM|101004|  1.389|             true|     Client Services| 1/24/1998 & 4:47 PM|\n",
      "|    Dennis|  Male| 4/18/1987|        1:35 AM|115163| 10.125|            false|               Legal| 4/18/1987 & 1:35 AM|\n",
      "|      Ruby|Female| 8/17/1987|        4:20 PM| 65476| 10.012|             true|             Product| 8/17/1987 & 4:20 PM|\n",
      "|      null|Female| 7/20/2015|       10:43 AM| 45906| 11.598|             null|             Finance|7/20/2015 & 10:43 AM|\n",
      "|    Angela|Female|11/22/2005|        6:29 AM| 95570| 18.523|             true|         Engineering|11/22/2005 & 6:29 AM|\n",
      "|   Frances|Female|  8/8/2002|        6:51 AM|139852|  7.524|             true|Business Development|  8/8/2002 & 6:51 AM|\n",
      "|    Louise|Female| 8/12/1980|        9:01 AM| 63241| 15.132|             true|                null| 8/12/1980 & 9:01 AM|\n",
      "|     Julie|Female|10/26/1997|        3:19 PM|102508| 12.637|             true|               Legal|10/26/1997 & 3:19 PM|\n",
      "|   Brandon|  Male| 12/1/1980|        1:08 AM|112807| 17.492|             true|     Human Resources| 12/1/1980 & 1:08 AM|\n",
      "|      Gary|  Male| 1/27/2008|       11:40 PM|109831|  5.831|            false|               Sales|1/27/2008 & 11:40 PM|\n",
      "|  Kimberly|Female| 1/14/1999|        7:13 AM| 41426| 14.543|             true|             Finance| 1/14/1999 & 7:13 AM|\n",
      "|   Lillian|Female|  6/5/2016|        6:09 AM| 59414|  1.256|            false|             Product|  6/5/2016 & 6:09 AM|\n",
      "|    Jeremy|  Male| 9/21/2010|        5:56 AM| 90370|  7.369|            false|     Human Resources| 9/21/2010 & 5:56 AM|\n",
      "|     Shawn|  Male| 12/7/1986|        7:45 PM|111737|  6.414|            false|             Product| 12/7/1986 & 7:45 PM|\n",
      "|     Diana|Female|10/23/1981|       10:27 AM|132940| 19.082|            false|     Client Services|10/23/1981 & 10:2...|\n",
      "|     Donna|Female| 7/22/2010|        3:48 AM| 81014|  1.894|            false|             Product| 7/22/2010 & 3:48 AM|\n",
      "+----------+------+----------+---------------+------+-------+-----------------+--------------------+--------------------+\n",
      "only showing top 20 rows\n",
      "\n"
     ]
    }
   ],
   "source": [
    "df5.select(\"*\",concat(\"Start Date\",lit(\" & \"),\"Last Login Time\").alias(\"Date & Time\")).show()"
   ]
  },
  {
   "cell_type": "code",
   "execution_count": 113,
   "id": "b2b6ed2a",
   "metadata": {},
   "outputs": [
    {
     "name": "stdout",
     "output_type": "stream",
     "text": [
      "+----------+------+----------+---------------+------+-------+-----------------+--------------------+--------------------+\n",
      "|First Name|Gender|Start Date|Last Login Time|Salary|Bonus %|Senior Management|                Team|         Date & Time|\n",
      "+----------+------+----------+---------------+------+-------+-----------------+--------------------+--------------------+\n",
      "|   Douglas|  Male|  8/6/1993|       12:42 PM| 97308|  6.945|             true|           Marketing| 8/6/1993 & 12:42 PM|\n",
      "|    Thomas|  Male| 3/31/1996|        6:53 AM| 61933|   4.17|             true|                null| 3/31/1996 & 6:53 AM|\n",
      "|     Maria|Female| 4/23/1993|       11:17 AM|130590| 11.858|            false|             Finance|4/23/1993 & 11:17 AM|\n",
      "|     Jerry|  Male|  3/4/2005|        1:00 PM|138705|   9.34|             true|             Finance|  3/4/2005 & 1:00 PM|\n",
      "|     Larry|  Male| 1/24/1998|        4:47 PM|101004|  1.389|             true|     Client Services| 1/24/1998 & 4:47 PM|\n",
      "|    Dennis|  Male| 4/18/1987|        1:35 AM|115163| 10.125|            false|               Legal| 4/18/1987 & 1:35 AM|\n",
      "|      Ruby|Female| 8/17/1987|        4:20 PM| 65476| 10.012|             true|             Product| 8/17/1987 & 4:20 PM|\n",
      "|      null|Female| 7/20/2015|       10:43 AM| 45906| 11.598|             null|             Finance|7/20/2015 & 10:43 AM|\n",
      "|    Angela|Female|11/22/2005|        6:29 AM| 95570| 18.523|             true|         Engineering|11/22/2005 & 6:29 AM|\n",
      "|   Frances|Female|  8/8/2002|        6:51 AM|139852|  7.524|             true|Business Development|  8/8/2002 & 6:51 AM|\n",
      "|    Louise|Female| 8/12/1980|        9:01 AM| 63241| 15.132|             true|                null| 8/12/1980 & 9:01 AM|\n",
      "|     Julie|Female|10/26/1997|        3:19 PM|102508| 12.637|             true|               Legal|10/26/1997 & 3:19 PM|\n",
      "|   Brandon|  Male| 12/1/1980|        1:08 AM|112807| 17.492|             true|     Human Resources| 12/1/1980 & 1:08 AM|\n",
      "|      Gary|  Male| 1/27/2008|       11:40 PM|109831|  5.831|            false|               Sales|1/27/2008 & 11:40 PM|\n",
      "|  Kimberly|Female| 1/14/1999|        7:13 AM| 41426| 14.543|             true|             Finance| 1/14/1999 & 7:13 AM|\n",
      "|   Lillian|Female|  6/5/2016|        6:09 AM| 59414|  1.256|            false|             Product|  6/5/2016 & 6:09 AM|\n",
      "|    Jeremy|  Male| 9/21/2010|        5:56 AM| 90370|  7.369|            false|     Human Resources| 9/21/2010 & 5:56 AM|\n",
      "|     Shawn|  Male| 12/7/1986|        7:45 PM|111737|  6.414|            false|             Product| 12/7/1986 & 7:45 PM|\n",
      "|     Diana|Female|10/23/1981|       10:27 AM|132940| 19.082|            false|     Client Services|10/23/1981 & 10:2...|\n",
      "|     Donna|Female| 7/22/2010|        3:48 AM| 81014|  1.894|            false|             Product| 7/22/2010 & 3:48 AM|\n",
      "+----------+------+----------+---------------+------+-------+-----------------+--------------------+--------------------+\n",
      "only showing top 20 rows\n",
      "\n"
     ]
    }
   ],
   "source": [
    "#Multiline code using back slash\n",
    "df5.select(\"*\",\n",
    "           concat(\"Start Date\",lit(\" & \"),\n",
    "                  \"Last Login Time\").alias(\"Date & Time\"))\\\n",
    ".show()"
   ]
  },
  {
   "cell_type": "code",
   "execution_count": 114,
   "id": "12664acb",
   "metadata": {},
   "outputs": [],
   "source": [
    "df5=df5.select(\"*\",concat(\"Start Date\",lit(\" & \"),\"Last Login Time\").alias(\"Date & Time\"))"
   ]
  },
  {
   "cell_type": "code",
   "execution_count": 115,
   "id": "218ca5b8",
   "metadata": {},
   "outputs": [],
   "source": [
    "dffinal=df5.drop(\"Start Date\",\"Last Login Time\")"
   ]
  },
  {
   "cell_type": "code",
   "execution_count": 116,
   "id": "e6f0bbdd",
   "metadata": {},
   "outputs": [
    {
     "name": "stdout",
     "output_type": "stream",
     "text": [
      "+----------+------+------+-------+-----------------+--------------------+--------------------+\n",
      "|First Name|Gender|Salary|Bonus %|Senior Management|                Team|         Date & Time|\n",
      "+----------+------+------+-------+-----------------+--------------------+--------------------+\n",
      "|   Douglas|  Male| 97308|  6.945|             true|           Marketing| 8/6/1993 & 12:42 PM|\n",
      "|    Thomas|  Male| 61933|   4.17|             true|                null| 3/31/1996 & 6:53 AM|\n",
      "|     Maria|Female|130590| 11.858|            false|             Finance|4/23/1993 & 11:17 AM|\n",
      "|     Jerry|  Male|138705|   9.34|             true|             Finance|  3/4/2005 & 1:00 PM|\n",
      "|     Larry|  Male|101004|  1.389|             true|     Client Services| 1/24/1998 & 4:47 PM|\n",
      "|    Dennis|  Male|115163| 10.125|            false|               Legal| 4/18/1987 & 1:35 AM|\n",
      "|      Ruby|Female| 65476| 10.012|             true|             Product| 8/17/1987 & 4:20 PM|\n",
      "|      null|Female| 45906| 11.598|             null|             Finance|7/20/2015 & 10:43 AM|\n",
      "|    Angela|Female| 95570| 18.523|             true|         Engineering|11/22/2005 & 6:29 AM|\n",
      "|   Frances|Female|139852|  7.524|             true|Business Development|  8/8/2002 & 6:51 AM|\n",
      "|    Louise|Female| 63241| 15.132|             true|                null| 8/12/1980 & 9:01 AM|\n",
      "|     Julie|Female|102508| 12.637|             true|               Legal|10/26/1997 & 3:19 PM|\n",
      "|   Brandon|  Male|112807| 17.492|             true|     Human Resources| 12/1/1980 & 1:08 AM|\n",
      "|      Gary|  Male|109831|  5.831|            false|               Sales|1/27/2008 & 11:40 PM|\n",
      "|  Kimberly|Female| 41426| 14.543|             true|             Finance| 1/14/1999 & 7:13 AM|\n",
      "|   Lillian|Female| 59414|  1.256|            false|             Product|  6/5/2016 & 6:09 AM|\n",
      "|    Jeremy|  Male| 90370|  7.369|            false|     Human Resources| 9/21/2010 & 5:56 AM|\n",
      "|     Shawn|  Male|111737|  6.414|            false|             Product| 12/7/1986 & 7:45 PM|\n",
      "|     Diana|Female|132940| 19.082|            false|     Client Services|10/23/1981 & 10:2...|\n",
      "|     Donna|Female| 81014|  1.894|            false|             Product| 7/22/2010 & 3:48 AM|\n",
      "+----------+------+------+-------+-----------------+--------------------+--------------------+\n",
      "only showing top 20 rows\n",
      "\n"
     ]
    }
   ],
   "source": [
    "dffinal.show()"
   ]
  },
  {
   "cell_type": "code",
   "execution_count": 117,
   "id": "498b7f32",
   "metadata": {},
   "outputs": [],
   "source": [
    "dffinal.write.csv(\"Dataset/PySparkDataFrameSave.csv\")"
   ]
  },
  {
   "cell_type": "code",
   "execution_count": 118,
   "id": "a3568eac",
   "metadata": {},
   "outputs": [
    {
     "name": "stderr",
     "output_type": "stream",
     "text": [
      "                                                                                \r"
     ]
    }
   ],
   "source": [
    "dffinal.write.parquet(\"Dataset/PySparkDataFrameSave\")"
   ]
  },
  {
   "cell_type": "code",
   "execution_count": null,
   "id": "cca5d075",
   "metadata": {},
   "outputs": [],
   "source": []
  }
 ],
 "metadata": {
  "kernelspec": {
   "display_name": "Python 3 (ipykernel)",
   "language": "python",
   "name": "python3"
  },
  "language_info": {
   "codemirror_mode": {
    "name": "ipython",
    "version": 3
   },
   "file_extension": ".py",
   "mimetype": "text/x-python",
   "name": "python",
   "nbconvert_exporter": "python",
   "pygments_lexer": "ipython3",
   "version": "3.11.4"
  }
 },
 "nbformat": 4,
 "nbformat_minor": 5
}
