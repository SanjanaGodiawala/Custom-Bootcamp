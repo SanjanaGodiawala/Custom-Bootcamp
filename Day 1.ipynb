{
 "cells": [
  {
   "cell_type": "markdown",
   "id": "04674f4a",
   "metadata": {},
   "source": [
    "# Python Day 1"
   ]
  },
  {
   "cell_type": "markdown",
   "id": "5da55007",
   "metadata": {},
   "source": [
    "### Python Fundamental Datatypes "
   ]
  },
  {
   "cell_type": "code",
   "execution_count": 1,
   "id": "800f3de3",
   "metadata": {
    "scrolled": true
   },
   "outputs": [
    {
     "name": "stdout",
     "output_type": "stream",
     "text": [
      "Welcome\n",
      "<class 'str'>\n"
     ]
    }
   ],
   "source": [
    "s = \"Welcome\"\n",
    "print(s)\n",
    "print(type(s))"
   ]
  },
  {
   "cell_type": "code",
   "execution_count": 2,
   "id": "52026890",
   "metadata": {},
   "outputs": [
    {
     "data": {
      "text/plain": [
       "int"
      ]
     },
     "execution_count": 2,
     "metadata": {},
     "output_type": "execute_result"
    }
   ],
   "source": [
    "a=10\n",
    "type(a)"
   ]
  },
  {
   "cell_type": "code",
   "execution_count": 3,
   "id": "0fd0fcac",
   "metadata": {},
   "outputs": [
    {
     "name": "stdout",
     "output_type": "stream",
     "text": [
      "<class 'int'>\n",
      "10\n"
     ]
    }
   ],
   "source": [
    "print(type(a))\n",
    "print(a)"
   ]
  },
  {
   "cell_type": "code",
   "execution_count": 4,
   "id": "e373e36d",
   "metadata": {},
   "outputs": [
    {
     "name": "stdout",
     "output_type": "stream",
     "text": [
      "<class 'float'>\n",
      "10.0\n"
     ]
    }
   ],
   "source": [
    "a=10.0\n",
    "print(type(a))\n",
    "print(a)"
   ]
  },
  {
   "cell_type": "code",
   "execution_count": 5,
   "id": "cf2bb1c5",
   "metadata": {},
   "outputs": [
    {
     "name": "stdout",
     "output_type": "stream",
     "text": [
      "<class 'bool'>\n",
      "False\n"
     ]
    }
   ],
   "source": [
    "b=True\n",
    "print(type(b))\n",
    "print(not b)"
   ]
  },
  {
   "cell_type": "code",
   "execution_count": 6,
   "id": "2c1ae650",
   "metadata": {},
   "outputs": [
    {
     "name": "stdout",
     "output_type": "stream",
     "text": [
      "False\n"
     ]
    }
   ],
   "source": [
    "a=10\n",
    "b=20\n",
    "c=a>b\n",
    "print(c)"
   ]
  },
  {
   "cell_type": "code",
   "execution_count": 7,
   "id": "1891b0fb",
   "metadata": {},
   "outputs": [
    {
     "name": "stdout",
     "output_type": "stream",
     "text": [
      "2\n"
     ]
    }
   ],
   "source": [
    "print(True+True)"
   ]
  },
  {
   "cell_type": "code",
   "execution_count": 8,
   "id": "281f17b2",
   "metadata": {},
   "outputs": [
    {
     "name": "stdout",
     "output_type": "stream",
     "text": [
      "1\n"
     ]
    }
   ],
   "source": [
    "print(True-False)"
   ]
  },
  {
   "cell_type": "code",
   "execution_count": 9,
   "id": "68c5a557",
   "metadata": {},
   "outputs": [
    {
     "name": "stdout",
     "output_type": "stream",
     "text": [
      "(10+20j)\n",
      "<class 'complex'>\n"
     ]
    }
   ],
   "source": [
    "c=10+20j\n",
    "print(c)\n",
    "print(type(c))"
   ]
  },
  {
   "cell_type": "code",
   "execution_count": 10,
   "id": "32382b3f",
   "metadata": {},
   "outputs": [
    {
     "name": "stdout",
     "output_type": "stream",
     "text": [
      "8885288\n",
      "8885288\n"
     ]
    }
   ],
   "source": [
    "a=10\n",
    "print(id(a))\n",
    "b=10\n",
    "print(id(a))"
   ]
  },
  {
   "cell_type": "code",
   "execution_count": 11,
   "id": "ca87984f",
   "metadata": {},
   "outputs": [
    {
     "name": "stdout",
     "output_type": "stream",
     "text": [
      "8885608\n"
     ]
    }
   ],
   "source": [
    "a=20\n",
    "print(id(a))"
   ]
  },
  {
   "cell_type": "code",
   "execution_count": 12,
   "id": "28b9c5da",
   "metadata": {},
   "outputs": [
    {
     "name": "stdout",
     "output_type": "stream",
     "text": [
      "n\n",
      "t\n",
      "Data\n"
     ]
    }
   ],
   "source": [
    "s=\"Data engineering\"\n",
    "print(s[-2])\n",
    "print(s[2])\n",
    "print(s[0:4])"
   ]
  },
  {
   "cell_type": "code",
   "execution_count": 13,
   "id": "4d099603",
   "metadata": {},
   "outputs": [
    {
     "data": {
      "text/plain": [
       "'mno'"
      ]
     },
     "execution_count": 13,
     "metadata": {},
     "output_type": "execute_result"
    }
   ],
   "source": [
    "alpha=\"abcdefghijklmnopqrstuvwxyz\"\n",
    "alpha[12:15]"
   ]
  },
  {
   "cell_type": "code",
   "execution_count": 14,
   "id": "534653f6",
   "metadata": {},
   "outputs": [
    {
     "data": {
      "text/plain": [
       "'xyz'"
      ]
     },
     "execution_count": 14,
     "metadata": {},
     "output_type": "execute_result"
    }
   ],
   "source": [
    "alpha[-3:]"
   ]
  },
  {
   "cell_type": "code",
   "execution_count": 15,
   "id": "81e34fb8",
   "metadata": {},
   "outputs": [
    {
     "data": {
      "text/plain": [
       "'abcdefghijklmn'"
      ]
     },
     "execution_count": 15,
     "metadata": {},
     "output_type": "execute_result"
    }
   ],
   "source": [
    "alpha[:14]"
   ]
  },
  {
   "cell_type": "code",
   "execution_count": 16,
   "id": "ea5a75b4",
   "metadata": {},
   "outputs": [
    {
     "data": {
      "text/plain": [
       "'defghijklmnopqrstuvwxyz'"
      ]
     },
     "execution_count": 16,
     "metadata": {},
     "output_type": "execute_result"
    }
   ],
   "source": [
    "alpha[3:100]"
   ]
  },
  {
   "cell_type": "code",
   "execution_count": 17,
   "id": "5d5f39cb",
   "metadata": {},
   "outputs": [
    {
     "data": {
      "text/plain": [
       "'acegikmoqsuwy'"
      ]
     },
     "execution_count": 17,
     "metadata": {},
     "output_type": "execute_result"
    }
   ],
   "source": [
    "alpha[::2]"
   ]
  },
  {
   "cell_type": "markdown",
   "id": "ad04cdc3",
   "metadata": {},
   "source": [
    "### Python Operators"
   ]
  },
  {
   "cell_type": "markdown",
   "id": "bb093401",
   "metadata": {},
   "source": [
    "#### Arithmetic Operator "
   ]
  },
  {
   "cell_type": "code",
   "execution_count": 18,
   "id": "7c3faf5f",
   "metadata": {},
   "outputs": [
    {
     "name": "stdout",
     "output_type": "stream",
     "text": [
      "30\n",
      "-10\n",
      "200\n",
      "0.5\n",
      "0\n",
      "1.0\n",
      "10\n",
      "100\n"
     ]
    }
   ],
   "source": [
    "a=10\n",
    "b=20\n",
    "print(a+b)\n",
    "print(a-b)\n",
    "print(a*b)\n",
    "print(a/b)\n",
    "print(a//b)\n",
    "print(3//2.0)\n",
    "print(a%b)\n",
    "print(a**2)"
   ]
  },
  {
   "cell_type": "markdown",
   "id": "1225778e",
   "metadata": {},
   "source": [
    "#### Relational Operator "
   ]
  },
  {
   "cell_type": "code",
   "execution_count": 19,
   "id": "eea79642",
   "metadata": {},
   "outputs": [
    {
     "name": "stdout",
     "output_type": "stream",
     "text": [
      "True\n",
      "False\n"
     ]
    }
   ],
   "source": [
    "print(a<b)\n",
    "print (a>=b)"
   ]
  },
  {
   "cell_type": "markdown",
   "id": "64dbaef1",
   "metadata": {},
   "source": [
    "#### Logical Operator "
   ]
  },
  {
   "cell_type": "code",
   "execution_count": 20,
   "id": "ea106564",
   "metadata": {},
   "outputs": [
    {
     "name": "stdout",
     "output_type": "stream",
     "text": [
      "False\n",
      "True\n",
      "True\n"
     ]
    }
   ],
   "source": [
    "a=True\n",
    "b=False\n",
    "print(a and b)\n",
    "print(a or b)\n",
    "print(a and not b)"
   ]
  },
  {
   "cell_type": "code",
   "execution_count": 21,
   "id": "d6c4fdf7",
   "metadata": {},
   "outputs": [],
   "source": [
    "is_geological_survey_complete = True\n",
    "is_environmental_clearance_received = True\n",
    "is_market_demand_high = False"
   ]
  },
  {
   "cell_type": "code",
   "execution_count": 22,
   "id": "67c73196",
   "metadata": {},
   "outputs": [],
   "source": [
    "should_start_drilling = is_geological_survey_complete and is_environmental_clearance_received and is_market_demand_high"
   ]
  },
  {
   "cell_type": "code",
   "execution_count": 23,
   "id": "fdd8ecca",
   "metadata": {},
   "outputs": [
    {
     "name": "stdout",
     "output_type": "stream",
     "text": [
      "Should we start drilling? False\n"
     ]
    }
   ],
   "source": [
    "print(\"Should we start drilling?\",should_start_drilling)"
   ]
  },
  {
   "cell_type": "code",
   "execution_count": 24,
   "id": "a1d2fb78",
   "metadata": {},
   "outputs": [],
   "source": [
    "\n",
    "HasExplorationPermit = True\n",
    "HasDrillingRights = True\n",
    "HasEnvironmentalApproval = False\n",
    "HasOilDiscovery = True\n",
    "\n",
    "IsExplorationAllowed = HasExplorationPermit and HasDrillingRights and not HasEnvironmentalApproval\n",
    "IsDiscoveryProfitable = HasOilDiscovery and (HasExplorationPermit or HasDrillingRights)"
   ]
  },
  {
   "cell_type": "code",
   "execution_count": 25,
   "id": "91a66dc1",
   "metadata": {},
   "outputs": [
    {
     "name": "stdout",
     "output_type": "stream",
     "text": [
      "Is exploration allowed? True\n",
      "Is the discovery profitable? True\n"
     ]
    }
   ],
   "source": [
    "print(\"Is exploration allowed?\",IsExplorationAllowed)\n",
    "print(\"Is the discovery profitable?\",IsDiscoveryProfitable)"
   ]
  },
  {
   "cell_type": "code",
   "execution_count": 26,
   "id": "899766c5",
   "metadata": {},
   "outputs": [
    {
     "name": "stdout",
     "output_type": "stream",
     "text": [
      "30\n",
      "1020\n",
      "30\n",
      "101010\n"
     ]
    }
   ],
   "source": [
    "print(10+20)\n",
    "print(\"10\"+\"20\")\n",
    "#\"10\"+20 (not allowed )\n",
    "print(10*3)\n",
    "#\"10\"*\"3\"(not allowed)\n",
    "print(\"10\"*3)\n"
   ]
  },
  {
   "cell_type": "markdown",
   "id": "068f45a4",
   "metadata": {},
   "source": [
    "#### Membership Operator"
   ]
  },
  {
   "cell_type": "code",
   "execution_count": 27,
   "id": "00502a63",
   "metadata": {},
   "outputs": [
    {
     "name": "stdout",
     "output_type": "stream",
     "text": [
      "True\n",
      "Is Hydrotreating Unit installed? True\n",
      "Is Thermal Cracking Unit obsolete? True\n"
     ]
    }
   ],
   "source": [
    "s=\"Python\"\n",
    "print(\"Py\" in s)\n",
    "\n",
    "# List of Equipment\n",
    "refineryEquipment = [\"Crude Distillation Unit\", \"Catalytic Cracking Unit\", \"Hydrotreating Unit\", \"FCC Unit\"]\n",
    "\n",
    " \n",
    "\n",
    "# Membership Operator\n",
    "IsUnitInstalled = \"Hydrotreating Unit\" in refineryEquipment\n",
    "IsUnitObsolete = \"Thermal Cracking Unit\" not in refineryEquipment\n",
    "\n",
    " \n",
    "\n",
    "print(\"Is Hydrotreating Unit installed?\", IsUnitInstalled)\n",
    "print(\"Is Thermal Cracking Unit obsolete?\", IsUnitObsolete)"
   ]
  },
  {
   "cell_type": "markdown",
   "id": "aa3519de",
   "metadata": {},
   "source": [
    "#### String Formating "
   ]
  },
  {
   "cell_type": "code",
   "execution_count": 28,
   "id": "64cb3113",
   "metadata": {},
   "outputs": [
    {
     "name": "stdout",
     "output_type": "stream",
     "text": [
      "I am sanjana working as Data Engineer for 8 hours a day\n",
      "I am sanjana working as Data Engineer for 8 hours a day\n",
      "I am sanjana working as Data Engineer for 8 hours a day\n"
     ]
    }
   ],
   "source": [
    "name = \"sanjana\"\n",
    "working = \"Data Engineer\"\n",
    "hours = 8\n",
    "print(\"I am %s working as %s for %d hours a day\" %(name,working,hours)) # old format\n",
    "print(\"I am {} working as {} for {} hours a day\".format(name,working,hours)) \n",
    "print(f\"I am {name} working as {working} for {hours} hours a day\") # mostly used"
   ]
  },
  {
   "cell_type": "code",
   "execution_count": 29,
   "id": "88d16063",
   "metadata": {},
   "outputs": [],
   "source": [
    "# Employee details\n",
    "\n",
    "name = \"John Doe\"\n",
    "\n",
    "job_title = \"Senior Geologist\"\n",
    "\n",
    "department = \"Geology\"\n",
    "\n",
    "email = \"johndoe@email.com\"\n",
    "\n",
    "phone = \"123-456-7890\""
   ]
  },
  {
   "cell_type": "code",
   "execution_count": 30,
   "id": "9b5dc1ae",
   "metadata": {},
   "outputs": [
    {
     "name": "stdout",
     "output_type": "stream",
     "text": [
      "Employee Information: \n",
      " Name: John Doe\n",
      " Job title: Senior Geologist \n",
      " Department: Geology \n",
      " Contact: \n",
      "\tEmail: johndoe@email.com \n",
      "\tPhone: 123-456-7890\n"
     ]
    }
   ],
   "source": [
    "print(f\"Employee Information: \\n Name: {name}\\n Job title: {job_title} \\n Department: {department} \\n Contact: \\n\\tEmail: {email} \\n\\tPhone: {phone}\")"
   ]
  },
  {
   "cell_type": "markdown",
   "id": "068c893f",
   "metadata": {},
   "source": [
    "### Data Structures"
   ]
  },
  {
   "cell_type": "markdown",
   "id": "8489788c",
   "metadata": {},
   "source": [
    "#### List"
   ]
  },
  {
   "cell_type": "code",
   "execution_count": 31,
   "id": "021f3ffc",
   "metadata": {},
   "outputs": [
    {
     "name": "stdout",
     "output_type": "stream",
     "text": [
      "[10, 'python', True, 10, 19.5]\n",
      "<class 'list'>\n",
      "19.5\n",
      "[10, 'python', True]\n"
     ]
    }
   ],
   "source": [
    "a=[10,\"python\",True,10,19.5]\n",
    "print(a)\n",
    "print(type(a))\n",
    "print(a[-1])\n",
    "print(a[:3])"
   ]
  },
  {
   "cell_type": "code",
   "execution_count": 32,
   "id": "c0dd155a",
   "metadata": {},
   "outputs": [
    {
     "data": {
      "text/plain": [
       "140247052621696"
      ]
     },
     "execution_count": 32,
     "metadata": {},
     "output_type": "execute_result"
    }
   ],
   "source": [
    "id(a)"
   ]
  },
  {
   "cell_type": "code",
   "execution_count": 33,
   "id": "bd654cae",
   "metadata": {},
   "outputs": [
    {
     "name": "stdout",
     "output_type": "stream",
     "text": [
      "[10, 'python', True, 10, 19.5, 999]\n"
     ]
    }
   ],
   "source": [
    "a.append(999)\n",
    "print(a)"
   ]
  },
  {
   "cell_type": "code",
   "execution_count": 34,
   "id": "6e1d3224",
   "metadata": {},
   "outputs": [
    {
     "data": {
      "text/plain": [
       "140247052621696"
      ]
     },
     "execution_count": 34,
     "metadata": {},
     "output_type": "execute_result"
    }
   ],
   "source": [
    "id(a)"
   ]
  },
  {
   "cell_type": "code",
   "execution_count": 35,
   "id": "de97cc2d",
   "metadata": {},
   "outputs": [
    {
     "name": "stdout",
     "output_type": "stream",
     "text": [
      "['python', True, 10, 19.5, 999]\n"
     ]
    }
   ],
   "source": [
    "a.remove(10)\n",
    "print(a)"
   ]
  },
  {
   "cell_type": "code",
   "execution_count": 36,
   "id": "b4710101",
   "metadata": {},
   "outputs": [
    {
     "data": {
      "text/plain": [
       "140247052621696"
      ]
     },
     "execution_count": 36,
     "metadata": {},
     "output_type": "execute_result"
    }
   ],
   "source": [
    "id(a)"
   ]
  },
  {
   "cell_type": "markdown",
   "id": "c388078e",
   "metadata": {},
   "source": [
    "#### Tuple"
   ]
  },
  {
   "cell_type": "code",
   "execution_count": 37,
   "id": "4df26c58",
   "metadata": {},
   "outputs": [],
   "source": [
    "t = (\"Well A\",\"2023-09-15\",\"pipeline\",True,100,100)"
   ]
  },
  {
   "cell_type": "code",
   "execution_count": 38,
   "id": "29561e0d",
   "metadata": {},
   "outputs": [
    {
     "data": {
      "text/plain": [
       "'pipeline'"
      ]
     },
     "execution_count": 38,
     "metadata": {},
     "output_type": "execute_result"
    }
   ],
   "source": [
    "t[2]"
   ]
  },
  {
   "cell_type": "code",
   "execution_count": 39,
   "id": "e96d4e91",
   "metadata": {},
   "outputs": [
    {
     "ename": "AttributeError",
     "evalue": "'tuple' object has no attribute 'append'",
     "output_type": "error",
     "traceback": [
      "\u001b[0;31m---------------------------------------------------------------------------\u001b[0m",
      "\u001b[0;31mAttributeError\u001b[0m                            Traceback (most recent call last)",
      "Cell \u001b[0;32mIn[39], line 1\u001b[0m\n\u001b[0;32m----> 1\u001b[0m t\u001b[38;5;241m.\u001b[39mappend(\u001b[38;5;241m22\u001b[39m)\n",
      "\u001b[0;31mAttributeError\u001b[0m: 'tuple' object has no attribute 'append'"
     ]
    }
   ],
   "source": [
    "t.append(22) #cannot add or remove elements from tuple"
   ]
  },
  {
   "cell_type": "markdown",
   "id": "97cc57a3",
   "metadata": {},
   "source": [
    "#### Set"
   ]
  },
  {
   "cell_type": "code",
   "execution_count": 40,
   "id": "f1df2a9f",
   "metadata": {},
   "outputs": [
    {
     "name": "stdout",
     "output_type": "stream",
     "text": [
      "{True, 'Python', 10.5, 'Shell', 10}\n"
     ]
    }
   ],
   "source": [
    "c={True,10.5,\"Shell\",True,10,10,10,\"Python\"}\n",
    "print(c)"
   ]
  },
  {
   "cell_type": "code",
   "execution_count": 41,
   "id": "ee61f9a6",
   "metadata": {},
   "outputs": [
    {
     "name": "stdout",
     "output_type": "stream",
     "text": [
      "140246992001664\n",
      "{True, 'Python', 10.5, 'Shell', 55, 10}\n",
      "140246992001664\n"
     ]
    }
   ],
   "source": [
    "print(id(c))\n",
    "c.add(55)\n",
    "print(c)\n",
    "print(id(c))"
   ]
  },
  {
   "cell_type": "markdown",
   "id": "b92fd154",
   "metadata": {},
   "source": [
    "#### Dictionary"
   ]
  },
  {
   "cell_type": "code",
   "execution_count": 42,
   "id": "5b93a077",
   "metadata": {},
   "outputs": [
    {
     "name": "stdout",
     "output_type": "stream",
     "text": [
      "{'Location': 'Well A', 'Start date': '2023-1-1', 'Duration': 45, 'End': True}\n"
     ]
    }
   ],
   "source": [
    "d={\"Location\":\"Well A\",\"Start date\":\"2023-1-1\",\"Duration\":45,\"End\":True}\n",
    "print(d)"
   ]
  },
  {
   "cell_type": "code",
   "execution_count": 43,
   "id": "5bb345d4",
   "metadata": {},
   "outputs": [
    {
     "name": "stdout",
     "output_type": "stream",
     "text": [
      "{'Location': 'Well B', 'Start date': '2023-1-1', 'Duration': 45, 'End': True}\n"
     ]
    }
   ],
   "source": [
    "d[\"Location\"]=\"Well B\"\n",
    "print(d)"
   ]
  },
  {
   "cell_type": "code",
   "execution_count": 44,
   "id": "fac7ac0c",
   "metadata": {},
   "outputs": [
    {
     "name": "stdout",
     "output_type": "stream",
     "text": [
      "{'Location': 'Well B', 'Start date': '2023-1-1', 'Duration': 45, 'End': True, 'End date': '2023-1-1'}\n"
     ]
    }
   ],
   "source": [
    "d[\"End date\"]=\"2023-1-1\"\n",
    "print(d)"
   ]
  },
  {
   "cell_type": "markdown",
   "id": "39eab5eb",
   "metadata": {},
   "source": [
    "### Excerise"
   ]
  },
  {
   "cell_type": "code",
   "execution_count": 45,
   "id": "df2e864e",
   "metadata": {},
   "outputs": [],
   "source": [
    "employees = [\n",
    "\n",
    "    \"John Doe, Senior Geologist, Geology, johndoe@email.com, 123-456-7890\",\n",
    "\n",
    "    \"Jane Smith, Drilling Engineer, Drilling, janesmith@email.com, 987-654-3210\",\n",
    "\n",
    "    \"Bob Johnson, Reservoir Engineer, Reservoir Engineering, bobjohnson@email.com, 456-789-0123\",\n",
    "\n",
    "    \"Alice Brown, Petrophysicist, Petrophysics, alicebrown@email.com, 789-012-3456\"\n",
    "\n",
    "]"
   ]
  },
  {
   "cell_type": "code",
   "execution_count": 46,
   "id": "418c7aa1",
   "metadata": {},
   "outputs": [
    {
     "name": "stdout",
     "output_type": "stream",
     "text": [
      "John Doe, Senior Geologist, Geology, johndoe@email.com, 123-456-7890\n"
     ]
    }
   ],
   "source": [
    "# a. Access and print the details of the first employee in the list.\n",
    "print(employees[0])"
   ]
  },
  {
   "cell_type": "code",
   "execution_count": 47,
   "id": "d02fa9e2",
   "metadata": {},
   "outputs": [
    {
     "name": "stdout",
     "output_type": "stream",
     "text": [
      "['John Doe, Senior Geologist, Geology, johndoe@email.com, 123-456-7890', 'Jane Smith, Drilling Engineer, Drilling, janesmith@email.com, 987-654-3210', 'Bob Johnson, Reservoir Engineer, Reservoir Engineering, bobjohnson@email.com, 456-789-0123', 'Alice Brown, Petrophysicist, Petrophysics, alicebrown@email.com, 789-012-3456', 'Eva Green, Drilling Technician, Drilling, evagreen@email.com, 111-222-3333']\n"
     ]
    }
   ],
   "source": [
    "#b. Add a new employee to the end of the list.\n",
    "#new_employee = \"Eva Green, Drilling Technician, Drilling, evagreen@email.com, 111-222-3333\"\n",
    "employees.append(\"Eva Green, Drilling Technician, Drilling, evagreen@email.com, 111-222-3333\")\n",
    "print(employees)"
   ]
  },
  {
   "cell_type": "markdown",
   "id": "4945e5f6",
   "metadata": {},
   "source": [
    "### Flow control "
   ]
  },
  {
   "cell_type": "markdown",
   "id": "5ffc5d4a",
   "metadata": {},
   "source": [
    "#### Selection Statement "
   ]
  },
  {
   "cell_type": "code",
   "execution_count": 53,
   "id": "be376958",
   "metadata": {},
   "outputs": [
    {
     "name": "stdout",
     "output_type": "stream",
     "text": [
      "Enter current fuel level: 1100\n"
     ]
    }
   ],
   "source": [
    "low_fuel_thresold = 1000\n",
    "critical_fuel_thresold = 500\n",
    "current_fuel_level= int(input(\"Enter current fuel level: \"))"
   ]
  },
  {
   "cell_type": "code",
   "execution_count": 54,
   "id": "00370d63",
   "metadata": {},
   "outputs": [
    {
     "name": "stdout",
     "output_type": "stream",
     "text": [
      "Continue fueling\n"
     ]
    }
   ],
   "source": [
    "if current_fuel_level<critical_fuel_thresold: \n",
    "    print(\"Critical Fuel Level Reached. Take Immediate Action\")\n",
    "elif current_fuel_level<low_fuel_thresold:\n",
    "    print(\"Send fuel low alert\")\n",
    "else:\n",
    "    print(\"Continue fueling\")"
   ]
  },
  {
   "cell_type": "markdown",
   "id": "a59ee66a",
   "metadata": {},
   "source": [
    "### Python Functions"
   ]
  },
  {
   "cell_type": "markdown",
   "id": "57ee1b0b",
   "metadata": {},
   "source": [
    " #### Range"
   ]
  },
  {
   "cell_type": "code",
   "execution_count": 55,
   "id": "8186342c",
   "metadata": {},
   "outputs": [
    {
     "name": "stdout",
     "output_type": "stream",
     "text": [
      "0\n",
      "1\n",
      "2\n",
      "3\n",
      "4\n",
      "5\n",
      "6\n",
      "7\n",
      "8\n"
     ]
    }
   ],
   "source": [
    "for i in range(0,9):\n",
    "    print(i)"
   ]
  },
  {
   "cell_type": "code",
   "execution_count": 56,
   "id": "5c22d984",
   "metadata": {},
   "outputs": [
    {
     "name": "stdout",
     "output_type": "stream",
     "text": [
      "5\n",
      "6\n",
      "7\n",
      "8\n",
      "9\n",
      "10\n",
      "11\n"
     ]
    }
   ],
   "source": [
    "for i in range(5,12):\n",
    "    print(i)"
   ]
  },
  {
   "cell_type": "code",
   "execution_count": 61,
   "id": "3f76e555",
   "metadata": {},
   "outputs": [
    {
     "name": "stdout",
     "output_type": "stream",
     "text": [
      "2\n",
      "5\n",
      "8\n",
      "11\n",
      "14\n",
      "17\n"
     ]
    }
   ],
   "source": [
    "for i in range(2,20,3):\n",
    "    print(i)"
   ]
  },
  {
   "cell_type": "markdown",
   "id": "bee4a462",
   "metadata": {},
   "source": [
    "#### Zip"
   ]
  },
  {
   "cell_type": "code",
   "execution_count": 63,
   "id": "ee99ce0c",
   "metadata": {},
   "outputs": [],
   "source": [
    "l1=['a','b,','c']\n",
    "l2=[\"sales\",\"IT\",\"Finance\"]"
   ]
  },
  {
   "cell_type": "code",
   "execution_count": 64,
   "id": "d95070f5",
   "metadata": {},
   "outputs": [
    {
     "name": "stdout",
     "output_type": "stream",
     "text": [
      "<zip object at 0x7f8db56084c0>\n"
     ]
    }
   ],
   "source": [
    "z = zip(l1,l2)\n",
    "print(z)"
   ]
  },
  {
   "cell_type": "code",
   "execution_count": 65,
   "id": "4f17ee8a",
   "metadata": {},
   "outputs": [
    {
     "name": "stdout",
     "output_type": "stream",
     "text": [
      "[('a', 'sales'), ('b,', 'IT'), ('c', 'Finance')]\n"
     ]
    }
   ],
   "source": [
    "z = list(zip(l1,l2))\n",
    "print(z)"
   ]
  },
  {
   "cell_type": "code",
   "execution_count": 66,
   "id": "bb41890c",
   "metadata": {},
   "outputs": [],
   "source": [
    "oil_gas_data = [\n",
    "    (\"Field A\", \"Texas\", 500000),\n",
    "    (\"Field B\", \"Alaska\", 800000),\n",
    "    (\"Field C\", \"North Sea\", 300000),\n",
    "    (\"Field D\", \"Gulf of Mexico\", 600000),\n",
    "]\n",
    "# use zip() to group the information of each oil and gas field together:"
   ]
  },
  {
   "cell_type": "code",
   "execution_count": 83,
   "id": "f4d9afbb",
   "metadata": {},
   "outputs": [
    {
     "name": "stdout",
     "output_type": "stream",
     "text": [
      "('Field A', 'Field B', 'Field C', 'Field D')\n",
      "('Texas', 'Alaska', 'North Sea', 'Gulf of Mexico')\n",
      "(500000, 800000, 300000, 600000)\n"
     ]
    }
   ],
   "source": [
    "field_name, location,reserves = zip(*oil_gas_data)\n",
    "print(field_name)\n",
    "print(location)\n",
    "print(reserves)"
   ]
  },
  {
   "cell_type": "markdown",
   "id": "03e785ea",
   "metadata": {},
   "source": [
    "#### Enumerate"
   ]
  },
  {
   "cell_type": "code",
   "execution_count": 72,
   "id": "d5602f1b",
   "metadata": {},
   "outputs": [
    {
     "name": "stdout",
     "output_type": "stream",
     "text": [
      "<enumerate object at 0x7f8dcfbedbc0>\n",
      "[(0, 'Texas'), (1, 'Alaska'), (2, 'North Sea'), (3, 'Gulf of Mexico')]\n"
     ]
    }
   ],
   "source": [
    "e =  enumerate(location)\n",
    "print(e)\n",
    "print(list(e))"
   ]
  },
  {
   "cell_type": "code",
   "execution_count": 73,
   "id": "aa49c2e1",
   "metadata": {},
   "outputs": [
    {
     "name": "stdout",
     "output_type": "stream",
     "text": [
      "[(0, 'Field A'), (1, 'Field B'), (2, 'Field C'), (3, 'Field D')]\n"
     ]
    }
   ],
   "source": [
    "f = list(enumerate(field_name))\n",
    "print(f)"
   ]
  },
  {
   "cell_type": "code",
   "execution_count": 75,
   "id": "c3c35145",
   "metadata": {},
   "outputs": [
    {
     "name": "stdout",
     "output_type": "stream",
     "text": [
      "Field 1: Field A is located in Texas with reserves of 500000 barrels.\n",
      "Field 2: Field B is located in Alaska with reserves of 800000 barrels.\n",
      "Field 3: Field C is located in North Sea with reserves of 300000 barrels.\n",
      "Field 4: Field D is located in Gulf of Mexico with reserves of 600000 barrels.\n"
     ]
    }
   ],
   "source": [
    "for index, field_data in enumerate(oil_gas_data):\n",
    "    field_name, location, reserve = field_data\n",
    "    print(f\"Field {index+1}: {field_name} is located in {location} with reserves of {reserve} barrels.\")\n",
    "\n"
   ]
  },
  {
   "cell_type": "markdown",
   "id": "5ea997dd",
   "metadata": {},
   "source": [
    "#### Counter"
   ]
  },
  {
   "cell_type": "code",
   "execution_count": 84,
   "id": "eb9e20d9",
   "metadata": {},
   "outputs": [
    {
     "data": {
      "text/plain": [
       "Counter({'Texas': 1, 'Alaska': 1, 'North Sea': 1, 'Gulf of Mexico': 1})"
      ]
     },
     "execution_count": 84,
     "metadata": {},
     "output_type": "execute_result"
    }
   ],
   "source": [
    "from collections import Counter\n",
    "count_location=Counter(location)\n",
    "count_location"
   ]
  },
  {
   "cell_type": "code",
   "execution_count": null,
   "id": "d585f8d7",
   "metadata": {},
   "outputs": [],
   "source": []
  }
 ],
 "metadata": {
  "kernelspec": {
   "display_name": "Python 3 (ipykernel)",
   "language": "python",
   "name": "python3"
  },
  "language_info": {
   "codemirror_mode": {
    "name": "ipython",
    "version": 3
   },
   "file_extension": ".py",
   "mimetype": "text/x-python",
   "name": "python",
   "nbconvert_exporter": "python",
   "pygments_lexer": "ipython3",
   "version": "3.11.4"
  }
 },
 "nbformat": 4,
 "nbformat_minor": 5
}
