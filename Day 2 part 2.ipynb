{
 "cells": [
  {
   "cell_type": "markdown",
   "id": "7a6501ab",
   "metadata": {},
   "source": [
    "## Recursive Function"
   ]
  },
  {
   "cell_type": "code",
   "execution_count": 3,
   "id": "27609148",
   "metadata": {},
   "outputs": [
    {
     "data": {
      "text/plain": [
       "120"
      ]
     },
     "execution_count": 3,
     "metadata": {},
     "output_type": "execute_result"
    }
   ],
   "source": [
    "def factorial(n):\n",
    "    if(n==0):\n",
    "        return 1\n",
    "    else:\n",
    "        return n*factorial(n-1)\n",
    "factorial(5)"
   ]
  },
  {
   "cell_type": "code",
   "execution_count": 10,
   "id": "a3d06016",
   "metadata": {},
   "outputs": [
    {
     "name": "stdout",
     "output_type": "stream",
     "text": [
      "0\n",
      "1\n",
      "1\n",
      "2\n",
      "3\n",
      "5\n",
      "8\n",
      "13\n",
      "21\n",
      "34\n"
     ]
    }
   ],
   "source": [
    "def fibo(n):\n",
    "    if n<=1:\n",
    "        return n\n",
    "    else:\n",
    "        return fibo(n-1)+fibo(n-2)\n",
    "for i in range(10):\n",
    "    print(fibo(i))"
   ]
  },
  {
   "cell_type": "code",
   "execution_count": 7,
   "id": "35ed70ea",
   "metadata": {},
   "outputs": [
    {
     "data": {
      "text/plain": [
       "(1, 1, 2, 3, 5, 8)"
      ]
     },
     "execution_count": 7,
     "metadata": {},
     "output_type": "execute_result"
    }
   ],
   "source": [
    "0,1,1,2,3,5,8"
   ]
  },
  {
   "cell_type": "markdown",
   "id": "8f179187",
   "metadata": {},
   "source": [
    "## Decorative Function "
   ]
  },
  {
   "cell_type": "code",
   "execution_count": 11,
   "id": "ac501756",
   "metadata": {},
   "outputs": [],
   "source": [
    "def div(a,b):\n",
    "    return a/b"
   ]
  },
  {
   "cell_type": "code",
   "execution_count": 13,
   "id": "b6f4ec59",
   "metadata": {},
   "outputs": [],
   "source": [
    "def div1(a,b):\n",
    "    if a<b:\n",
    "        a,b=b,a\n",
    "    return a/b"
   ]
  },
  {
   "cell_type": "code",
   "execution_count": 17,
   "id": "54a7cdd0",
   "metadata": {},
   "outputs": [
    {
     "name": "stdout",
     "output_type": "stream",
     "text": [
      "2.0   0.5\n"
     ]
    }
   ],
   "source": [
    "print(div(10,5),\" \", div(5,10))"
   ]
  },
  {
   "cell_type": "code",
   "execution_count": 18,
   "id": "35c9cb9b",
   "metadata": {},
   "outputs": [
    {
     "name": "stdout",
     "output_type": "stream",
     "text": [
      "2.0   2.0\n"
     ]
    }
   ],
   "source": [
    "print(div1(10,5),\" \", div1(5,10))"
   ]
  },
  {
   "cell_type": "code",
   "execution_count": 21,
   "id": "f89df416",
   "metadata": {},
   "outputs": [],
   "source": [
    "def og_div(a,b):\n",
    "    c=a/b\n",
    "    return c"
   ]
  },
  {
   "cell_type": "code",
   "execution_count": 24,
   "id": "7af08e3b",
   "metadata": {},
   "outputs": [],
   "source": [
    "def smart_div(func):\n",
    "    def inner(a,b):\n",
    "        if a<b:\n",
    "            a,b=b,a\n",
    "        return func(a,b)\n",
    "    return (inner)"
   ]
  },
  {
   "cell_type": "code",
   "execution_count": 25,
   "id": "1d673516",
   "metadata": {},
   "outputs": [],
   "source": [
    "result=smart_div(og_div)"
   ]
  },
  {
   "cell_type": "raw",
   "id": "72b86192",
   "metadata": {},
   "source": [
    "result(5,10)"
   ]
  },
  {
   "cell_type": "code",
   "execution_count": 26,
   "id": "e3a88fd2",
   "metadata": {},
   "outputs": [
    {
     "data": {
      "text/plain": [
       "2.0"
      ]
     },
     "execution_count": 26,
     "metadata": {},
     "output_type": "execute_result"
    }
   ],
   "source": [
    "result(5,10)"
   ]
  },
  {
   "cell_type": "code",
   "execution_count": 44,
   "id": "87cd3cd2",
   "metadata": {},
   "outputs": [],
   "source": [
    "def wish(name):\n",
    "     print(\"Hello \", name,\", Good Morning\")"
   ]
  },
  {
   "cell_type": "code",
   "execution_count": 52,
   "id": "d3f1d252",
   "metadata": {},
   "outputs": [],
   "source": [
    "def new_wish(func):\n",
    "    def inner(name):\n",
    "        if name==\"Robert\":\n",
    "            print(\"Hello\",name,\", Bad Morning\")\n",
    "        else:\n",
    "            func(name)\n",
    "    return inner"
   ]
  },
  {
   "cell_type": "code",
   "execution_count": 53,
   "id": "76301b14",
   "metadata": {},
   "outputs": [
    {
     "name": "stdout",
     "output_type": "stream",
     "text": [
      "Hello  sanjana , Good Morning\n",
      "Hello Robert , Bad Morning\n"
     ]
    }
   ],
   "source": [
    "w=new_wish(wish)\n",
    "w(\"sanjana\")\n",
    "w(\"Robert\")"
   ]
  },
  {
   "cell_type": "code",
   "execution_count": 57,
   "id": "d829f425",
   "metadata": {},
   "outputs": [],
   "source": [
    "@new_wish\n",
    "def wish(name):\n",
    "     print(\"Hello \", name,\", Good Morning\")"
   ]
  },
  {
   "cell_type": "code",
   "execution_count": 64,
   "id": "111e1898",
   "metadata": {},
   "outputs": [
    {
     "data": {
      "text/plain": [
       "<function __main__.new_wish.<locals>.inner(name)>"
      ]
     },
     "execution_count": 64,
     "metadata": {},
     "output_type": "execute_result"
    }
   ],
   "source": [
    "new_wish(\"sanjana\")"
   ]
  },
  {
   "cell_type": "markdown",
   "id": "8199586c",
   "metadata": {},
   "source": [
    "## Generator Function\n",
    "### A generator function is yield keyword to a sequence of values one at a time instead of returning all at once"
   ]
  },
  {
   "cell_type": "code",
   "execution_count": 59,
   "id": "21bcd54d",
   "metadata": {},
   "outputs": [],
   "source": [
    "def count(n):\n",
    "    i=1\n",
    "    while i<=n:\n",
    "        yield i\n",
    "        i=i+1"
   ]
  },
  {
   "cell_type": "code",
   "execution_count": 60,
   "id": "4e35605d",
   "metadata": {},
   "outputs": [
    {
     "data": {
      "text/plain": [
       "<generator object count at 0x7fb96836f510>"
      ]
     },
     "execution_count": 60,
     "metadata": {},
     "output_type": "execute_result"
    }
   ],
   "source": [
    "count(10)"
   ]
  },
  {
   "cell_type": "code",
   "execution_count": 62,
   "id": "2aaaeb0a",
   "metadata": {},
   "outputs": [
    {
     "data": {
      "text/plain": [
       "[1, 2, 3, 4, 5, 6, 7, 8, 9, 10]"
      ]
     },
     "execution_count": 62,
     "metadata": {},
     "output_type": "execute_result"
    }
   ],
   "source": [
    "list(count(10))"
   ]
  },
  {
   "cell_type": "code",
   "execution_count": 73,
   "id": "1d4b95d8",
   "metadata": {},
   "outputs": [
    {
     "name": "stdout",
     "output_type": "stream",
     "text": [
      "1\n",
      "2\n",
      "3\n",
      "5\n",
      "8\n",
      "13\n",
      "21\n"
     ]
    },
    {
     "data": {
      "text/plain": [
       "[0, 1, 1, 2, 3, 5, 8]"
      ]
     },
     "execution_count": 73,
     "metadata": {},
     "output_type": "execute_result"
    }
   ],
   "source": [
    "def fibonocci(n):\n",
    "    i1=0\n",
    "    i2=1\n",
    "    while i1<n:\n",
    "        yield i1\n",
    "        i1,i2=i2,i1+i2\n",
    "        print(i2)\n",
    "list(fibonocci(10))\n",
    "        "
   ]
  },
  {
   "cell_type": "markdown",
   "id": "bfa98a5f",
   "metadata": {},
   "source": [
    "## List Comprehension"
   ]
  },
  {
   "cell_type": "code",
   "execution_count": 11,
   "id": "aadfcbd0",
   "metadata": {},
   "outputs": [
    {
     "data": {
      "text/plain": [
       "[2, 4, 6, 8]"
      ]
     },
     "execution_count": 11,
     "metadata": {},
     "output_type": "execute_result"
    }
   ],
   "source": [
    "xyz=[1,2,3,4,5,6,7,8,9]\n",
    "x = [i for i in xyz if i%2==0]\n",
    "x"
   ]
  },
  {
   "cell_type": "code",
   "execution_count": 2,
   "id": "111770c6",
   "metadata": {},
   "outputs": [
    {
     "name": "stdout",
     "output_type": "stream",
     "text": [
      "['P', 'S', 'A', 'P']\n"
     ]
    }
   ],
   "source": [
    "list=[\"Python\",\"SQL\",\"Azure\",\"Power BI\"]\n",
    "\n",
    "l=[x[0] for x in list]\n",
    "\n",
    "print(l)"
   ]
  },
  {
   "cell_type": "code",
   "execution_count": 12,
   "id": "584bb9f1",
   "metadata": {},
   "outputs": [
    {
     "name": "stdout",
     "output_type": "stream",
     "text": [
      "['Python', 'Sql', 'Azure', 'Power BI']\n"
     ]
    }
   ],
   "source": [
    "list=[\"python\",\"sql\",\"azure\",\"power BI\"]\n",
    "l=[x[0].upper()+x[1:] for x in list]\n",
    "print(l)"
   ]
  },
  {
   "cell_type": "code",
   "execution_count": 5,
   "id": "8b371647",
   "metadata": {},
   "outputs": [],
   "source": [
    "words = \"the quick brown fox jumps over lazy dog\"\n",
    "w = [[s.upper(),len(s)] for s in words.split(\" \")]"
   ]
  },
  {
   "cell_type": "code",
   "execution_count": 6,
   "id": "7ebd54e8",
   "metadata": {},
   "outputs": [
    {
     "data": {
      "text/plain": [
       "[['THE', 3],\n",
       " ['QUICK', 5],\n",
       " ['BROWN', 5],\n",
       " ['FOX', 3],\n",
       " ['JUMPS', 5],\n",
       " ['OVER', 4],\n",
       " ['LAZY', 4],\n",
       " ['DOG', 3]]"
      ]
     },
     "execution_count": 6,
     "metadata": {},
     "output_type": "execute_result"
    }
   ],
   "source": [
    "w"
   ]
  },
  {
   "cell_type": "markdown",
   "id": "3b55bd47",
   "metadata": {},
   "source": [
    "## Lambda  Function/ Anonymous Function"
   ]
  },
  {
   "cell_type": "markdown",
   "id": "54b2b812",
   "metadata": {},
   "source": [
    " #### Functions without name\n",
    " #### Consise code\n",
    " #### Syntax lambda variable : expression"
   ]
  },
  {
   "cell_type": "code",
   "execution_count": 7,
   "id": "50f02636",
   "metadata": {},
   "outputs": [],
   "source": [
    "def sq(i):\n",
    "    return i*i\n",
    "\n",
    "f=lambda i:i*i"
   ]
  },
  {
   "cell_type": "code",
   "execution_count": 10,
   "id": "26640432",
   "metadata": {},
   "outputs": [
    {
     "name": "stdout",
     "output_type": "stream",
     "text": [
      "64 49\n"
     ]
    }
   ],
   "source": [
    "print(sq(8) ,\n",
    "f(7))"
   ]
  },
  {
   "cell_type": "code",
   "execution_count": 11,
   "id": "44de8d26",
   "metadata": {},
   "outputs": [],
   "source": [
    "a = lambda a,b:a+b"
   ]
  },
  {
   "cell_type": "code",
   "execution_count": 12,
   "id": "9407ebe9",
   "metadata": {},
   "outputs": [
    {
     "data": {
      "text/plain": [
       "11"
      ]
     },
     "execution_count": 12,
     "metadata": {},
     "output_type": "execute_result"
    }
   ],
   "source": [
    "a(5,6)"
   ]
  },
  {
   "cell_type": "code",
   "execution_count": 18,
   "id": "e40023c6",
   "metadata": {},
   "outputs": [
    {
     "data": {
      "text/plain": [
       "8"
      ]
     },
     "execution_count": 18,
     "metadata": {},
     "output_type": "execute_result"
    }
   ],
   "source": [
    "largest = lambda a,b:a if a>b else b\n",
    "largest(8,3)"
   ]
  },
  {
   "cell_type": "code",
   "execution_count": 21,
   "id": "805f59d6",
   "metadata": {},
   "outputs": [],
   "source": [
    "l=[1,2,4,6,7,8,9,3]\n",
    "l1 = list(filter(lambda x:x%2==0,l))"
   ]
  },
  {
   "cell_type": "code",
   "execution_count": 22,
   "id": "ceaaa23f",
   "metadata": {},
   "outputs": [
    {
     "data": {
      "text/plain": [
       "[2, 4, 6, 8]"
      ]
     },
     "execution_count": 22,
     "metadata": {},
     "output_type": "execute_result"
    }
   ],
   "source": [
    "l1"
   ]
  },
  {
   "cell_type": "code",
   "execution_count": 24,
   "id": "d7cb7fd8",
   "metadata": {},
   "outputs": [
    {
     "name": "stdout",
     "output_type": "stream",
     "text": [
      "[4, 9, 16, 25, 36, 49, 64]\n"
     ]
    }
   ],
   "source": [
    "l=[2,3,4,5,6,7,8]\n",
    "def squareit(n):\n",
    "    return n**2\n",
    "sq = list(map(squareit,l))\n",
    "print(sq)"
   ]
  },
  {
   "cell_type": "code",
   "execution_count": 25,
   "id": "5cdb239c",
   "metadata": {},
   "outputs": [],
   "source": [
    "sq = list(map(lambda i:i**2,l))"
   ]
  },
  {
   "cell_type": "code",
   "execution_count": 26,
   "id": "108b4c0d",
   "metadata": {},
   "outputs": [
    {
     "data": {
      "text/plain": [
       "[4, 9, 16, 25, 36, 49, 64]"
      ]
     },
     "execution_count": 26,
     "metadata": {},
     "output_type": "execute_result"
    }
   ],
   "source": [
    "sq"
   ]
  },
  {
   "cell_type": "code",
   "execution_count": 10,
   "id": "eb39dcc3",
   "metadata": {},
   "outputs": [
    {
     "name": "stdout",
     "output_type": "stream",
     "text": [
      "['HELLO', 'WORLD', 'LAMBDA', 'EXERCISE']\n"
     ]
    }
   ],
   "source": [
    "\n",
    "words=[\"hello\",\"world\",\"lambda\",\"exercise\"]\n",
    "\n",
    "s1=list(map(lambda word:word.upper(),words))\n",
    "\n",
    "print(s1)"
   ]
  },
  {
   "cell_type": "code",
   "execution_count": 11,
   "id": "b905edbf",
   "metadata": {},
   "outputs": [],
   "source": [
    "people = [{'name':'Alice',\"age\": 30},{'name':'Bob',\"age\": 25},{'name':'Charlie',\"age\": 35}]"
   ]
  },
  {
   "cell_type": "code",
   "execution_count": 12,
   "id": "156e7ec3",
   "metadata": {},
   "outputs": [
    {
     "data": {
      "text/plain": [
       "[{'name': 'Alice', 'age': 30},\n",
       " {'name': 'Bob', 'age': 25},\n",
       " {'name': 'Charlie', 'age': 35}]"
      ]
     },
     "execution_count": 12,
     "metadata": {},
     "output_type": "execute_result"
    }
   ],
   "source": [
    "people"
   ]
  },
  {
   "cell_type": "code",
   "execution_count": 14,
   "id": "95007c09",
   "metadata": {},
   "outputs": [
    {
     "ename": "SyntaxError",
     "evalue": "invalid syntax (3439203817.py, line 1)",
     "output_type": "error",
     "traceback": [
      "\u001b[0;36m  Cell \u001b[0;32mIn[14], line 1\u001b[0;36m\u001b[0m\n\u001b[0;31m    people[].[name]\u001b[0m\n\u001b[0m           ^\u001b[0m\n\u001b[0;31mSyntaxError\u001b[0m\u001b[0;31m:\u001b[0m invalid syntax\n"
     ]
    }
   ],
   "source": [
    "people[].[name]"
   ]
  },
  {
   "cell_type": "code",
   "execution_count": 15,
   "id": "7b0efb98",
   "metadata": {},
   "outputs": [
    {
     "data": {
      "text/plain": [
       "[{'name': 'Bob', 'age': 25},\n",
       " {'name': 'Alice', 'age': 30},\n",
       " {'name': 'Charlie', 'age': 35}]"
      ]
     },
     "execution_count": 15,
     "metadata": {},
     "output_type": "execute_result"
    }
   ],
   "source": [
    "sorted(people, key = lambda i:i[\"age\"])"
   ]
  },
  {
   "cell_type": "markdown",
   "id": "6c6acd6a",
   "metadata": {},
   "source": [
    "## Class"
   ]
  },
  {
   "cell_type": "markdown",
   "id": "8e66fd35",
   "metadata": {},
   "source": [
    "#### Class is a blue print though which multiple objects can be created\n",
    "#### Class has variables and methods/attribute/functions"
   ]
  },
  {
   "cell_type": "code",
   "execution_count": 26,
   "id": "8580eddf",
   "metadata": {},
   "outputs": [],
   "source": [
    "class Computer:\n",
    "    # variables\n",
    "    \n",
    "    # methods/attribute/functions\n",
    "    def config(self):\n",
    "        print(\"i5, 16Gb\")"
   ]
  },
  {
   "cell_type": "code",
   "execution_count": 27,
   "id": "e805f0d0",
   "metadata": {},
   "outputs": [],
   "source": [
    "comp1=Computer()"
   ]
  },
  {
   "cell_type": "code",
   "execution_count": 28,
   "id": "a7123621",
   "metadata": {},
   "outputs": [
    {
     "name": "stdout",
     "output_type": "stream",
     "text": [
      "i5, 16Gb\n"
     ]
    }
   ],
   "source": [
    "comp1.config()"
   ]
  },
  {
   "cell_type": "code",
   "execution_count": null,
   "id": "2fc66d73",
   "metadata": {},
   "outputs": [],
   "source": []
  }
 ],
 "metadata": {
  "kernelspec": {
   "display_name": "Python 3 (ipykernel)",
   "language": "python",
   "name": "python3"
  },
  "language_info": {
   "codemirror_mode": {
    "name": "ipython",
    "version": 3
   },
   "file_extension": ".py",
   "mimetype": "text/x-python",
   "name": "python",
   "nbconvert_exporter": "python",
   "pygments_lexer": "ipython3",
   "version": "3.11.4"
  }
 },
 "nbformat": 4,
 "nbformat_minor": 5
}
